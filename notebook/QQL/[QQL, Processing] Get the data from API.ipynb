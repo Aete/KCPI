{
 "cells": [
  {
   "cell_type": "code",
   "execution_count": 1,
   "id": "05521155",
   "metadata": {},
   "outputs": [
    {
     "data": {
      "text/plain": [
       "['../../config.ini']"
      ]
     },
     "execution_count": 1,
     "metadata": {},
     "output_type": "execute_result"
    }
   ],
   "source": [
    "# import libraries\n",
    "# for processing data tables\n",
    "import numpy as np\n",
    "import pandas as pd\n",
    "\n",
    "# for visualizations\n",
    "import matplotlib.pyplot as plt\n",
    "import seaborn as sns\n",
    "\n",
    "# for sending requests to url and parsing\n",
    "import requests\n",
    "import json\n",
    "\n",
    "import sys\n",
    "sys.path.append('../')\n",
    "\n",
    "# import useful cumtom functions and variables from my helper.py\n",
    "from helper import request_data_kosis\n",
    "from helper import dict_hl_name\n",
    "from helper import map_hl\n",
    "from helper import request_data_libsta\n",
    "\n",
    "import configparser\n",
    "config = configparser.ConfigParser()\n",
    "config.read('../../config.ini', encoding='utf8')"
   ]
  },
  {
   "cell_type": "markdown",
   "id": "75c9bfef",
   "metadata": {},
   "source": [
    "# Green Area per Capita\n"
   ]
  },
  {
   "cell_type": "code",
   "execution_count": 52,
   "id": "aef7d194",
   "metadata": {},
   "outputs": [],
   "source": [
    "df_gapc_hl = request_data_kosis(url = config['gapc']['hl_url'], target_period = '2020', variable_name = 'gapc')\n",
    "\n",
    "# drop the low-level regions\n",
    "df_gapc_hl = df_gapc_hl.loc[df_gapc_hl['C1_NM'].isin(dict_hl_name.keys())].copy().drop_duplicates(['C1_NM','gapc'])"
   ]
  },
  {
   "cell_type": "code",
   "execution_count": 53,
   "id": "3563225c",
   "metadata": {},
   "outputs": [
    {
     "data": {
      "text/html": [
       "<div>\n",
       "<style scoped>\n",
       "    .dataframe tbody tr th:only-of-type {\n",
       "        vertical-align: middle;\n",
       "    }\n",
       "\n",
       "    .dataframe tbody tr th {\n",
       "        vertical-align: top;\n",
       "    }\n",
       "\n",
       "    .dataframe thead th {\n",
       "        text-align: right;\n",
       "    }\n",
       "</style>\n",
       "<table border=\"1\" class=\"dataframe\">\n",
       "  <thead>\n",
       "    <tr style=\"text-align: right;\">\n",
       "      <th></th>\n",
       "      <th>C1</th>\n",
       "      <th>C1_NM</th>\n",
       "      <th>gapc</th>\n",
       "      <th>period</th>\n",
       "    </tr>\n",
       "  </thead>\n",
       "  <tbody>\n",
       "    <tr>\n",
       "      <th>1</th>\n",
       "      <td>15315HJG001</td>\n",
       "      <td>서울특별시</td>\n",
       "      <td>24.24</td>\n",
       "      <td>2020</td>\n",
       "    </tr>\n",
       "    <tr>\n",
       "      <th>27</th>\n",
       "      <td>15315HJG002</td>\n",
       "      <td>부산광역시</td>\n",
       "      <td>160.59</td>\n",
       "      <td>2020</td>\n",
       "    </tr>\n",
       "    <tr>\n",
       "      <th>44</th>\n",
       "      <td>15315HJG003</td>\n",
       "      <td>대구광역시</td>\n",
       "      <td>256.12</td>\n",
       "      <td>2020</td>\n",
       "    </tr>\n",
       "    <tr>\n",
       "      <th>53</th>\n",
       "      <td>15315HJG004</td>\n",
       "      <td>인천광역시</td>\n",
       "      <td>102.23</td>\n",
       "      <td>2020</td>\n",
       "    </tr>\n",
       "    <tr>\n",
       "      <th>64</th>\n",
       "      <td>15315HJG005</td>\n",
       "      <td>광주광역시</td>\n",
       "      <td>246.67</td>\n",
       "      <td>2020</td>\n",
       "    </tr>\n",
       "  </tbody>\n",
       "</table>\n",
       "</div>"
      ],
      "text/plain": [
       "             C1  C1_NM    gapc period\n",
       "1   15315HJG001  서울특별시   24.24   2020\n",
       "27  15315HJG002  부산광역시  160.59   2020\n",
       "44  15315HJG003  대구광역시  256.12   2020\n",
       "53  15315HJG004  인천광역시  102.23   2020\n",
       "64  15315HJG005  광주광역시  246.67   2020"
      ]
     },
     "execution_count": 53,
     "metadata": {},
     "output_type": "execute_result"
    }
   ],
   "source": [
    "df_gapc_hl.head()"
   ]
  },
  {
   "cell_type": "code",
   "execution_count": 49,
   "id": "7c01e0d4",
   "metadata": {},
   "outputs": [],
   "source": [
    "df_gapc_ll = request_data_kosis(url = config['gapc']['hl_url'], target_period = '2020', variable_name = 'gapc')\n",
    "\n",
    "# drop the high-level regions\n",
    "df_gapc_ll = df_gapc_ll.loc[np.logical_not(df_gapc_ll['C1_NM'].isin(df_gapc_hl.loc[:,'C1_NM']))].copy().drop_duplicates(['C1_NM','gapc'])\n",
    "\n",
    "# set C1 and C1_NM as C2\n",
    "df_gapc_ll = df_gapc_ll.rename(columns = {'C1':'C2', 'C1_NM':'C2_NM'})\n",
    "\n",
    "# extract the high level region codes from the low level region codes\n",
    "df_gapc_ll['C1'] = df_gapc_ll['C2'].str[:11]\n",
    "\n",
    "# merge the high level region \n",
    "df_gapc_ll = df_gapc_ll.merge(df_gapc_hl.loc[:,['C1','C1_NM']], left_on = 'C1', right_on = 'C1')"
   ]
  },
  {
   "cell_type": "code",
   "execution_count": 56,
   "id": "5d544448",
   "metadata": {},
   "outputs": [
    {
     "data": {
      "text/html": [
       "<div>\n",
       "<style scoped>\n",
       "    .dataframe tbody tr th:only-of-type {\n",
       "        vertical-align: middle;\n",
       "    }\n",
       "\n",
       "    .dataframe tbody tr th {\n",
       "        vertical-align: top;\n",
       "    }\n",
       "\n",
       "    .dataframe thead th {\n",
       "        text-align: right;\n",
       "    }\n",
       "</style>\n",
       "<table border=\"1\" class=\"dataframe\">\n",
       "  <thead>\n",
       "    <tr style=\"text-align: right;\">\n",
       "      <th></th>\n",
       "      <th>C2</th>\n",
       "      <th>C2_NM</th>\n",
       "      <th>gapc</th>\n",
       "      <th>period</th>\n",
       "      <th>C1</th>\n",
       "      <th>C1_NM</th>\n",
       "    </tr>\n",
       "  </thead>\n",
       "  <tbody>\n",
       "    <tr>\n",
       "      <th>0</th>\n",
       "      <td>15315HJG001001</td>\n",
       "      <td>종로구</td>\n",
       "      <td>75.00</td>\n",
       "      <td>2020</td>\n",
       "      <td>15315HJG001</td>\n",
       "      <td>서울특별시</td>\n",
       "    </tr>\n",
       "    <tr>\n",
       "      <th>1</th>\n",
       "      <td>15315HJG001002</td>\n",
       "      <td>중구</td>\n",
       "      <td>0.20</td>\n",
       "      <td>2020</td>\n",
       "      <td>15315HJG001</td>\n",
       "      <td>서울특별시</td>\n",
       "    </tr>\n",
       "    <tr>\n",
       "      <th>2</th>\n",
       "      <td>15315HJG001003</td>\n",
       "      <td>용산구</td>\n",
       "      <td>39.02</td>\n",
       "      <td>2020</td>\n",
       "      <td>15315HJG001</td>\n",
       "      <td>서울특별시</td>\n",
       "    </tr>\n",
       "    <tr>\n",
       "      <th>3</th>\n",
       "      <td>15315HJG001004</td>\n",
       "      <td>성동구</td>\n",
       "      <td>14.76</td>\n",
       "      <td>2020</td>\n",
       "      <td>15315HJG001</td>\n",
       "      <td>서울특별시</td>\n",
       "    </tr>\n",
       "    <tr>\n",
       "      <th>4</th>\n",
       "      <td>15315HJG001005</td>\n",
       "      <td>광진구</td>\n",
       "      <td>15.22</td>\n",
       "      <td>2020</td>\n",
       "      <td>15315HJG001</td>\n",
       "      <td>서울특별시</td>\n",
       "    </tr>\n",
       "  </tbody>\n",
       "</table>\n",
       "</div>"
      ],
      "text/plain": [
       "               C2 C2_NM   gapc period           C1  C1_NM\n",
       "0  15315HJG001001   종로구  75.00   2020  15315HJG001  서울특별시\n",
       "1  15315HJG001002    중구   0.20   2020  15315HJG001  서울특별시\n",
       "2  15315HJG001003   용산구  39.02   2020  15315HJG001  서울특별시\n",
       "3  15315HJG001004   성동구  14.76   2020  15315HJG001  서울특별시\n",
       "4  15315HJG001005   광진구  15.22   2020  15315HJG001  서울특별시"
      ]
     },
     "execution_count": 56,
     "metadata": {},
     "output_type": "execute_result"
    }
   ],
   "source": [
    "df_gapc_ll.head()"
   ]
  },
  {
   "cell_type": "code",
   "execution_count": null,
   "id": "2607ea15",
   "metadata": {},
   "outputs": [],
   "source": []
  }
 ],
 "metadata": {
  "kernelspec": {
   "display_name": "Python 3.10.4 ('cpi')",
   "language": "python",
   "name": "python3"
  },
  "language_info": {
   "codemirror_mode": {
    "name": "ipython",
    "version": 3
   },
   "file_extension": ".py",
   "mimetype": "text/x-python",
   "name": "python",
   "nbconvert_exporter": "python",
   "pygments_lexer": "ipython3",
   "version": "3.10.4"
  },
  "vscode": {
   "interpreter": {
    "hash": "d6f9b90e74ef7e4f229a2661193ae14e3b82de2db7e6e3d0b73e515f9eb02c1f"
   }
  }
 },
 "nbformat": 4,
 "nbformat_minor": 5
}
