{
 "cells": [
  {
   "cell_type": "code",
   "execution_count": 1,
   "id": "db0c4fba",
   "metadata": {},
   "outputs": [
    {
     "data": {
      "text/plain": [
       "['../../config.ini']"
      ]
     },
     "execution_count": 1,
     "metadata": {},
     "output_type": "execute_result"
    }
   ],
   "source": [
    "# import libraries\n",
    "\n",
    "# for processing data tables\n",
    "import numpy as np\n",
    "import pandas as pd\n",
    "\n",
    "# for visualizations\n",
    "import matplotlib.pyplot as plt\n",
    "import seaborn as sns\n",
    "\n",
    "# for sending requests to url and parsing\n",
    "import requests\n",
    "import json\n",
    "\n",
    "import sys\n",
    "sys.path.append('../')\n",
    "\n",
    "from helper import request_data_kosis\n",
    "\n",
    "import configparser\n",
    "config = configparser.ConfigParser()\n",
    "config.read('../../config.ini')"
   ]
  },
  {
   "cell_type": "markdown",
   "id": "61413410",
   "metadata": {},
   "source": [
    "## 1. City Product per Capita, Economic Density"
   ]
  },
  {
   "cell_type": "code",
   "execution_count": null,
   "id": "1d7fcc25",
   "metadata": {},
   "outputs": [],
   "source": []
  },
  {
   "cell_type": "markdown",
   "id": "d72c8527",
   "metadata": {},
   "source": [
    "## 2. Old Age Dependency Ratio"
   ]
  },
  {
   "cell_type": "code",
   "execution_count": 2,
   "id": "cc125637",
   "metadata": {},
   "outputs": [],
   "source": [
    "# working population = people ages 15 to 64\n",
    "working_pop = ['15 - 19세',\n",
    "               '20 - 24세',\n",
    "               '25 - 29세', \n",
    "               '30 - 34세', \n",
    "               '35 - 39세', \n",
    "               '40 - 44세', \n",
    "               '45 - 49세', \n",
    "               '50 - 54세', \n",
    "               '55 - 59세', \n",
    "               '60 - 64세']\n",
    "\n",
    "# old population = people ages 65 and over\n",
    "old_pop = ['65 - 69세', '70 - 74세', '75 - 79세', '80세 이상']"
   ]
  },
  {
   "cell_type": "code",
   "execution_count": 3,
   "id": "d64b983e",
   "metadata": {},
   "outputs": [],
   "source": [
    "df_oadr_hl = request_data_kosis(url = config['oadr']['hl_url'], target_period = '2021', index = ['C1','C1_NM'], columns = 'C3_NM', scale = 'hl')\n",
    "\n",
    "# calculating people ages 15 to 64 and people ages 65 and over\n",
    "df_oadr_hl['working_pop'] = df_oadr_hl.loc[:,working_pop].sum(axis = 1)\n",
    "df_oadr_hl['old_pop'] = df_oadr_hl.loc[:,old_pop].sum(axis = 1)\n",
    "\n",
    "# calculating old age dependency ratio\n",
    "df_oadr_hl['oadr'] = df_oadr_hl['old_pop'] / df_oadr_hl['working_pop'] "
   ]
  },
  {
   "cell_type": "code",
   "execution_count": 4,
   "id": "6e9aab91",
   "metadata": {},
   "outputs": [],
   "source": [
    "df_oadr_hl = df_oadr_hl.loc[:,['C1','C1_NM', 'oadr']]"
   ]
  },
  {
   "cell_type": "code",
   "execution_count": 5,
   "id": "6b44a1fc",
   "metadata": {},
   "outputs": [
    {
     "data": {
      "text/html": [
       "<div>\n",
       "<style scoped>\n",
       "    .dataframe tbody tr th:only-of-type {\n",
       "        vertical-align: middle;\n",
       "    }\n",
       "\n",
       "    .dataframe tbody tr th {\n",
       "        vertical-align: top;\n",
       "    }\n",
       "\n",
       "    .dataframe thead th {\n",
       "        text-align: right;\n",
       "    }\n",
       "</style>\n",
       "<table border=\"1\" class=\"dataframe\">\n",
       "  <thead>\n",
       "    <tr style=\"text-align: right;\">\n",
       "      <th></th>\n",
       "      <th>C1</th>\n",
       "      <th>C1_NM</th>\n",
       "      <th>oadr</th>\n",
       "    </tr>\n",
       "  </thead>\n",
       "  <tbody>\n",
       "    <tr>\n",
       "      <th>0</th>\n",
       "      <td>11</td>\n",
       "      <td>서울특별시</td>\n",
       "      <td>0.221983</td>\n",
       "    </tr>\n",
       "    <tr>\n",
       "      <th>1</th>\n",
       "      <td>21</td>\n",
       "      <td>부산광역시</td>\n",
       "      <td>0.284877</td>\n",
       "    </tr>\n",
       "    <tr>\n",
       "      <th>2</th>\n",
       "      <td>22</td>\n",
       "      <td>대구광역시</td>\n",
       "      <td>0.238335</td>\n",
       "    </tr>\n",
       "    <tr>\n",
       "      <th>3</th>\n",
       "      <td>23</td>\n",
       "      <td>인천광역시</td>\n",
       "      <td>0.195436</td>\n",
       "    </tr>\n",
       "    <tr>\n",
       "      <th>4</th>\n",
       "      <td>24</td>\n",
       "      <td>광주광역시</td>\n",
       "      <td>0.200308</td>\n",
       "    </tr>\n",
       "  </tbody>\n",
       "</table>\n",
       "</div>"
      ],
      "text/plain": [
       "   C1  C1_NM      oadr\n",
       "0  11  서울특별시  0.221983\n",
       "1  21  부산광역시  0.284877\n",
       "2  22  대구광역시  0.238335\n",
       "3  23  인천광역시  0.195436\n",
       "4  24  광주광역시  0.200308"
      ]
     },
     "execution_count": 5,
     "metadata": {},
     "output_type": "execute_result"
    }
   ],
   "source": [
    "df_oadr_hl.head()"
   ]
  },
  {
   "cell_type": "markdown",
   "id": "92665654",
   "metadata": {},
   "source": [
    "## 3. Mean Household Income"
   ]
  },
  {
   "cell_type": "markdown",
   "id": "69167176",
   "metadata": {},
   "source": [
    "## 4 Economic Specialization"
   ]
  },
  {
   "cell_type": "markdown",
   "id": "f15dbaf6",
   "metadata": {},
   "source": [
    "## 5. Unemployment Rate"
   ]
  },
  {
   "cell_type": "code",
   "execution_count": 6,
   "id": "dd84d8d5",
   "metadata": {},
   "outputs": [],
   "source": [
    "# 광역지방자치단체\n",
    "df_uer_hl = request_data_kosis(url = config['uer']['hl_url'], target_period = '2021', variable_name = 'uer')\n",
    "\n",
    "# 기초지방자치단체\n",
    "df_uer_ll = request_data_kosis(url = config['uer']['ll_url'], target_period = '202102', variable_name = 'uer')\n",
    "df_uer_ll['period'] = '2021 2nd half'"
   ]
  },
  {
   "cell_type": "code",
   "execution_count": 7,
   "id": "f870d995",
   "metadata": {},
   "outputs": [
    {
     "name": "stdout",
     "output_type": "stream",
     "text": [
      "(17, 4)\n"
     ]
    },
    {
     "data": {
      "text/html": [
       "<div>\n",
       "<style scoped>\n",
       "    .dataframe tbody tr th:only-of-type {\n",
       "        vertical-align: middle;\n",
       "    }\n",
       "\n",
       "    .dataframe tbody tr th {\n",
       "        vertical-align: top;\n",
       "    }\n",
       "\n",
       "    .dataframe thead th {\n",
       "        text-align: right;\n",
       "    }\n",
       "</style>\n",
       "<table border=\"1\" class=\"dataframe\">\n",
       "  <thead>\n",
       "    <tr style=\"text-align: right;\">\n",
       "      <th></th>\n",
       "      <th>C1</th>\n",
       "      <th>C1_NM</th>\n",
       "      <th>uer</th>\n",
       "      <th>period</th>\n",
       "    </tr>\n",
       "  </thead>\n",
       "  <tbody>\n",
       "    <tr>\n",
       "      <th>0</th>\n",
       "      <td>11</td>\n",
       "      <td>서울특별시</td>\n",
       "      <td>4.8</td>\n",
       "      <td>2021</td>\n",
       "    </tr>\n",
       "    <tr>\n",
       "      <th>1</th>\n",
       "      <td>21</td>\n",
       "      <td>부산광역시</td>\n",
       "      <td>3.4</td>\n",
       "      <td>2021</td>\n",
       "    </tr>\n",
       "    <tr>\n",
       "      <th>2</th>\n",
       "      <td>22</td>\n",
       "      <td>대구광역시</td>\n",
       "      <td>3.7</td>\n",
       "      <td>2021</td>\n",
       "    </tr>\n",
       "    <tr>\n",
       "      <th>3</th>\n",
       "      <td>23</td>\n",
       "      <td>인천광역시</td>\n",
       "      <td>4.0</td>\n",
       "      <td>2021</td>\n",
       "    </tr>\n",
       "    <tr>\n",
       "      <th>4</th>\n",
       "      <td>24</td>\n",
       "      <td>광주광역시</td>\n",
       "      <td>3.6</td>\n",
       "      <td>2021</td>\n",
       "    </tr>\n",
       "  </tbody>\n",
       "</table>\n",
       "</div>"
      ],
      "text/plain": [
       "   C1  C1_NM  uer period\n",
       "0  11  서울특별시  4.8   2021\n",
       "1  21  부산광역시  3.4   2021\n",
       "2  22  대구광역시  3.7   2021\n",
       "3  23  인천광역시  4.0   2021\n",
       "4  24  광주광역시  3.6   2021"
      ]
     },
     "execution_count": 7,
     "metadata": {},
     "output_type": "execute_result"
    }
   ],
   "source": [
    "print(df_uer_hl.shape)\n",
    "df_uer_hl.head()"
   ]
  },
  {
   "cell_type": "code",
   "execution_count": 8,
   "id": "e284a56b",
   "metadata": {},
   "outputs": [
    {
     "name": "stdout",
     "output_type": "stream",
     "text": [
      "(228, 4)\n"
     ]
    },
    {
     "data": {
      "text/html": [
       "<div>\n",
       "<style scoped>\n",
       "    .dataframe tbody tr th:only-of-type {\n",
       "        vertical-align: middle;\n",
       "    }\n",
       "\n",
       "    .dataframe tbody tr th {\n",
       "        vertical-align: top;\n",
       "    }\n",
       "\n",
       "    .dataframe thead th {\n",
       "        text-align: right;\n",
       "    }\n",
       "</style>\n",
       "<table border=\"1\" class=\"dataframe\">\n",
       "  <thead>\n",
       "    <tr style=\"text-align: right;\">\n",
       "      <th></th>\n",
       "      <th>C1</th>\n",
       "      <th>C1_NM</th>\n",
       "      <th>uer</th>\n",
       "      <th>period</th>\n",
       "    </tr>\n",
       "  </thead>\n",
       "  <tbody>\n",
       "    <tr>\n",
       "      <th>0</th>\n",
       "      <td>1101</td>\n",
       "      <td>서울 종로구</td>\n",
       "      <td>4.0</td>\n",
       "      <td>2021 2nd half</td>\n",
       "    </tr>\n",
       "    <tr>\n",
       "      <th>1</th>\n",
       "      <td>1102</td>\n",
       "      <td>서울 중구</td>\n",
       "      <td>4.3</td>\n",
       "      <td>2021 2nd half</td>\n",
       "    </tr>\n",
       "    <tr>\n",
       "      <th>2</th>\n",
       "      <td>1103</td>\n",
       "      <td>서울 용산구</td>\n",
       "      <td>4.8</td>\n",
       "      <td>2021 2nd half</td>\n",
       "    </tr>\n",
       "    <tr>\n",
       "      <th>3</th>\n",
       "      <td>1104</td>\n",
       "      <td>서울 성동구</td>\n",
       "      <td>5.0</td>\n",
       "      <td>2021 2nd half</td>\n",
       "    </tr>\n",
       "    <tr>\n",
       "      <th>4</th>\n",
       "      <td>1105</td>\n",
       "      <td>서울 광진구</td>\n",
       "      <td>3.8</td>\n",
       "      <td>2021 2nd half</td>\n",
       "    </tr>\n",
       "  </tbody>\n",
       "</table>\n",
       "</div>"
      ],
      "text/plain": [
       "     C1   C1_NM  uer         period\n",
       "0  1101  서울 종로구  4.0  2021 2nd half\n",
       "1  1102   서울 중구  4.3  2021 2nd half\n",
       "2  1103  서울 용산구  4.8  2021 2nd half\n",
       "3  1104  서울 성동구  5.0  2021 2nd half\n",
       "4  1105  서울 광진구  3.8  2021 2nd half"
      ]
     },
     "execution_count": 8,
     "metadata": {},
     "output_type": "execute_result"
    }
   ],
   "source": [
    "print(df_uer_ll.shape)\n",
    "df_uer_ll.head()"
   ]
  },
  {
   "cell_type": "markdown",
   "id": "94881d8b",
   "metadata": {},
   "source": [
    "## 6. Employment to Population Ratio"
   ]
  },
  {
   "cell_type": "code",
   "execution_count": 14,
   "id": "b1eb47a3",
   "metadata": {},
   "outputs": [],
   "source": [
    "df_epr_hl = request_data_kosis(url = config['epr']['hl_url'], target_period = '2021', variable_name = 'epr')\n",
    "df_epr_ll = request_data_kosis(url = config['epr']['ll_url'], target_period = '202102', variable_name = 'epr')\n",
    "df_epr_ll['period'] = '2021 2nd half'"
   ]
  },
  {
   "cell_type": "code",
   "execution_count": 15,
   "id": "fa9fa64c",
   "metadata": {},
   "outputs": [
    {
     "name": "stdout",
     "output_type": "stream",
     "text": [
      "(17, 4)\n"
     ]
    },
    {
     "data": {
      "text/html": [
       "<div>\n",
       "<style scoped>\n",
       "    .dataframe tbody tr th:only-of-type {\n",
       "        vertical-align: middle;\n",
       "    }\n",
       "\n",
       "    .dataframe tbody tr th {\n",
       "        vertical-align: top;\n",
       "    }\n",
       "\n",
       "    .dataframe thead th {\n",
       "        text-align: right;\n",
       "    }\n",
       "</style>\n",
       "<table border=\"1\" class=\"dataframe\">\n",
       "  <thead>\n",
       "    <tr style=\"text-align: right;\">\n",
       "      <th></th>\n",
       "      <th>C1</th>\n",
       "      <th>C1_NM</th>\n",
       "      <th>epr</th>\n",
       "      <th>period</th>\n",
       "    </tr>\n",
       "  </thead>\n",
       "  <tbody>\n",
       "    <tr>\n",
       "      <th>0</th>\n",
       "      <td>11</td>\n",
       "      <td>서울특별시</td>\n",
       "      <td>59.2</td>\n",
       "      <td>2021</td>\n",
       "    </tr>\n",
       "    <tr>\n",
       "      <th>1</th>\n",
       "      <td>21</td>\n",
       "      <td>부산광역시</td>\n",
       "      <td>56.2</td>\n",
       "      <td>2021</td>\n",
       "    </tr>\n",
       "    <tr>\n",
       "      <th>2</th>\n",
       "      <td>22</td>\n",
       "      <td>대구광역시</td>\n",
       "      <td>58.2</td>\n",
       "      <td>2021</td>\n",
       "    </tr>\n",
       "    <tr>\n",
       "      <th>3</th>\n",
       "      <td>23</td>\n",
       "      <td>인천광역시</td>\n",
       "      <td>61.3</td>\n",
       "      <td>2021</td>\n",
       "    </tr>\n",
       "    <tr>\n",
       "      <th>4</th>\n",
       "      <td>24</td>\n",
       "      <td>광주광역시</td>\n",
       "      <td>58.2</td>\n",
       "      <td>2021</td>\n",
       "    </tr>\n",
       "  </tbody>\n",
       "</table>\n",
       "</div>"
      ],
      "text/plain": [
       "   C1  C1_NM   epr period\n",
       "0  11  서울특별시  59.2   2021\n",
       "1  21  부산광역시  56.2   2021\n",
       "2  22  대구광역시  58.2   2021\n",
       "3  23  인천광역시  61.3   2021\n",
       "4  24  광주광역시  58.2   2021"
      ]
     },
     "execution_count": 15,
     "metadata": {},
     "output_type": "execute_result"
    }
   ],
   "source": [
    "print(df_epr_hl.shape)\n",
    "df_epr_hl.head()"
   ]
  },
  {
   "cell_type": "code",
   "execution_count": 16,
   "metadata": {},
   "outputs": [
    {
     "name": "stdout",
     "output_type": "stream",
     "text": [
      "(228, 4)\n"
     ]
    },
    {
     "data": {
      "text/html": [
       "<div>\n",
       "<style scoped>\n",
       "    .dataframe tbody tr th:only-of-type {\n",
       "        vertical-align: middle;\n",
       "    }\n",
       "\n",
       "    .dataframe tbody tr th {\n",
       "        vertical-align: top;\n",
       "    }\n",
       "\n",
       "    .dataframe thead th {\n",
       "        text-align: right;\n",
       "    }\n",
       "</style>\n",
       "<table border=\"1\" class=\"dataframe\">\n",
       "  <thead>\n",
       "    <tr style=\"text-align: right;\">\n",
       "      <th></th>\n",
       "      <th>C1</th>\n",
       "      <th>C1_NM</th>\n",
       "      <th>epr</th>\n",
       "      <th>period</th>\n",
       "    </tr>\n",
       "  </thead>\n",
       "  <tbody>\n",
       "    <tr>\n",
       "      <th>0</th>\n",
       "      <td>1101</td>\n",
       "      <td>서울 종로구</td>\n",
       "      <td>56.1</td>\n",
       "      <td>2021 2nd half</td>\n",
       "    </tr>\n",
       "    <tr>\n",
       "      <th>1</th>\n",
       "      <td>1102</td>\n",
       "      <td>서울 중구</td>\n",
       "      <td>55.9</td>\n",
       "      <td>2021 2nd half</td>\n",
       "    </tr>\n",
       "    <tr>\n",
       "      <th>2</th>\n",
       "      <td>1103</td>\n",
       "      <td>서울 용산구</td>\n",
       "      <td>59.5</td>\n",
       "      <td>2021 2nd half</td>\n",
       "    </tr>\n",
       "    <tr>\n",
       "      <th>3</th>\n",
       "      <td>1104</td>\n",
       "      <td>서울 성동구</td>\n",
       "      <td>56.4</td>\n",
       "      <td>2021 2nd half</td>\n",
       "    </tr>\n",
       "    <tr>\n",
       "      <th>4</th>\n",
       "      <td>1105</td>\n",
       "      <td>서울 광진구</td>\n",
       "      <td>57.5</td>\n",
       "      <td>2021 2nd half</td>\n",
       "    </tr>\n",
       "  </tbody>\n",
       "</table>\n",
       "</div>"
      ],
      "text/plain": [
       "     C1   C1_NM   epr         period\n",
       "0  1101  서울 종로구  56.1  2021 2nd half\n",
       "1  1102   서울 중구  55.9  2021 2nd half\n",
       "2  1103  서울 용산구  59.5  2021 2nd half\n",
       "3  1104  서울 성동구  56.4  2021 2nd half\n",
       "4  1105  서울 광진구  57.5  2021 2nd half"
      ]
     },
     "execution_count": 16,
     "metadata": {},
     "output_type": "execute_result"
    }
   ],
   "source": [
    "print(df_epr_ll.shape)\n",
    "df_epr_ll.head()"
   ]
  },
  {
   "cell_type": "markdown",
   "id": "2e06a1e4",
   "metadata": {},
   "source": [
    "## 7. Informal Employment"
   ]
  },
  {
   "cell_type": "code",
   "execution_count": 17,
   "id": "6ce02f11",
   "metadata": {},
   "outputs": [],
   "source": [
    "# \n",
    "df_ie_hl = request_data_kosis(config['ie']['hl_url'], target_period = '2021', variable_name = 'ie')"
   ]
  },
  {
   "cell_type": "code",
   "execution_count": 18,
   "id": "94562345",
   "metadata": {},
   "outputs": [
    {
     "data": {
      "text/html": [
       "<div>\n",
       "<style scoped>\n",
       "    .dataframe tbody tr th:only-of-type {\n",
       "        vertical-align: middle;\n",
       "    }\n",
       "\n",
       "    .dataframe tbody tr th {\n",
       "        vertical-align: top;\n",
       "    }\n",
       "\n",
       "    .dataframe thead th {\n",
       "        text-align: right;\n",
       "    }\n",
       "</style>\n",
       "<table border=\"1\" class=\"dataframe\">\n",
       "  <thead>\n",
       "    <tr style=\"text-align: right;\">\n",
       "      <th></th>\n",
       "      <th>C1</th>\n",
       "      <th>C1_NM</th>\n",
       "      <th>ie</th>\n",
       "      <th>period</th>\n",
       "    </tr>\n",
       "  </thead>\n",
       "  <tbody>\n",
       "    <tr>\n",
       "      <th>0</th>\n",
       "      <td>11</td>\n",
       "      <td>서울특별시</td>\n",
       "      <td>38.5</td>\n",
       "      <td>2021</td>\n",
       "    </tr>\n",
       "    <tr>\n",
       "      <th>1</th>\n",
       "      <td>21</td>\n",
       "      <td>부산광역시</td>\n",
       "      <td>41.1</td>\n",
       "      <td>2021</td>\n",
       "    </tr>\n",
       "    <tr>\n",
       "      <th>2</th>\n",
       "      <td>22</td>\n",
       "      <td>대구광역시</td>\n",
       "      <td>38.3</td>\n",
       "      <td>2021</td>\n",
       "    </tr>\n",
       "    <tr>\n",
       "      <th>3</th>\n",
       "      <td>23</td>\n",
       "      <td>인천광역시</td>\n",
       "      <td>37.1</td>\n",
       "      <td>2021</td>\n",
       "    </tr>\n",
       "    <tr>\n",
       "      <th>4</th>\n",
       "      <td>24</td>\n",
       "      <td>광주광역시</td>\n",
       "      <td>40.0</td>\n",
       "      <td>2021</td>\n",
       "    </tr>\n",
       "  </tbody>\n",
       "</table>\n",
       "</div>"
      ],
      "text/plain": [
       "   C1  C1_NM    ie period\n",
       "0  11  서울특별시  38.5   2021\n",
       "1  21  부산광역시  41.1   2021\n",
       "2  22  대구광역시  38.3   2021\n",
       "3  23  인천광역시  37.1   2021\n",
       "4  24  광주광역시  40.0   2021"
      ]
     },
     "execution_count": 18,
     "metadata": {},
     "output_type": "execute_result"
    }
   ],
   "source": [
    "df_ie_hl.head()"
   ]
  },
  {
   "cell_type": "code",
   "execution_count": null,
   "id": "390ea224",
   "metadata": {},
   "outputs": [],
   "source": []
  }
 ],
 "metadata": {
  "kernelspec": {
   "display_name": "Python 3.10.4 ('cpi')",
   "language": "python",
   "name": "python3"
  },
  "language_info": {
   "codemirror_mode": {
    "name": "ipython",
    "version": 3
   },
   "file_extension": ".py",
   "mimetype": "text/x-python",
   "name": "python",
   "nbconvert_exporter": "python",
   "pygments_lexer": "ipython3",
   "version": "3.10.4"
  },
  "vscode": {
   "interpreter": {
    "hash": "d6f9b90e74ef7e4f229a2661193ae14e3b82de2db7e6e3d0b73e515f9eb02c1f"
   }
  }
 },
 "nbformat": 4,
 "nbformat_minor": 5
}
