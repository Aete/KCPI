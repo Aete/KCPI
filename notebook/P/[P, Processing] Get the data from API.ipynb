{
 "cells": [
  {
   "cell_type": "code",
   "execution_count": 1,
   "id": "db0c4fba",
   "metadata": {},
   "outputs": [
    {
     "data": {
      "text/plain": [
       "['../../config.ini']"
      ]
     },
     "execution_count": 1,
     "metadata": {},
     "output_type": "execute_result"
    }
   ],
   "source": [
    "# import libraries\n",
    "\n",
    "# for processing data tables\n",
    "import numpy as np\n",
    "import pandas as pd\n",
    "\n",
    "# for visualizations\n",
    "import matplotlib.pyplot as plt\n",
    "import seaborn as sns\n",
    "\n",
    "# for sending requests to url and parsing\n",
    "import requests\n",
    "import json\n",
    "\n",
    "import sys\n",
    "sys.path.append('../')\n",
    "\n",
    "# import useful cumtom functions and variables from my helper.py\n",
    "from helper import request_data_kosis\n",
    "from helper import dict_hl_name\n",
    "from helper import map_hl\n",
    "\n",
    "import configparser\n",
    "config = configparser.ConfigParser()\n",
    "config.read('../../config.ini')"
   ]
  },
  {
   "cell_type": "markdown",
   "id": "61413410",
   "metadata": {},
   "source": [
    "## 1. City Product per Capita"
   ]
  },
  {
   "cell_type": "code",
   "execution_count": 2,
   "id": "1d7fcc25",
   "metadata": {},
   "outputs": [],
   "source": [
    "df_cppc_hl = request_data_kosis(url = config['cppc']['hl_url'], target_period = '2020',variable_name = 'cpcc')"
   ]
  },
  {
   "cell_type": "code",
   "execution_count": 3,
   "id": "bbf7ebbd",
   "metadata": {},
   "outputs": [
    {
     "data": {
      "text/html": [
       "<div>\n",
       "<style scoped>\n",
       "    .dataframe tbody tr th:only-of-type {\n",
       "        vertical-align: middle;\n",
       "    }\n",
       "\n",
       "    .dataframe tbody tr th {\n",
       "        vertical-align: top;\n",
       "    }\n",
       "\n",
       "    .dataframe thead th {\n",
       "        text-align: right;\n",
       "    }\n",
       "</style>\n",
       "<table border=\"1\" class=\"dataframe\">\n",
       "  <thead>\n",
       "    <tr style=\"text-align: right;\">\n",
       "      <th></th>\n",
       "      <th>C1</th>\n",
       "      <th>C1_NM</th>\n",
       "      <th>cpcc</th>\n",
       "      <th>period</th>\n",
       "    </tr>\n",
       "  </thead>\n",
       "  <tbody>\n",
       "    <tr>\n",
       "      <th>0</th>\n",
       "      <td>11</td>\n",
       "      <td>서울특별시</td>\n",
       "      <td>45859.0</td>\n",
       "      <td>2020</td>\n",
       "    </tr>\n",
       "    <tr>\n",
       "      <th>1</th>\n",
       "      <td>21</td>\n",
       "      <td>부산광역시</td>\n",
       "      <td>27426.0</td>\n",
       "      <td>2020</td>\n",
       "    </tr>\n",
       "    <tr>\n",
       "      <th>2</th>\n",
       "      <td>22</td>\n",
       "      <td>대구광역시</td>\n",
       "      <td>23958.0</td>\n",
       "      <td>2020</td>\n",
       "    </tr>\n",
       "    <tr>\n",
       "      <th>3</th>\n",
       "      <td>23</td>\n",
       "      <td>인천광역시</td>\n",
       "      <td>30513.0</td>\n",
       "      <td>2020</td>\n",
       "    </tr>\n",
       "    <tr>\n",
       "      <th>4</th>\n",
       "      <td>24</td>\n",
       "      <td>광주광역시</td>\n",
       "      <td>27994.0</td>\n",
       "      <td>2020</td>\n",
       "    </tr>\n",
       "  </tbody>\n",
       "</table>\n",
       "</div>"
      ],
      "text/plain": [
       "   C1  C1_NM     cpcc period\n",
       "0  11  서울특별시  45859.0   2020\n",
       "1  21  부산광역시  27426.0   2020\n",
       "2  22  대구광역시  23958.0   2020\n",
       "3  23  인천광역시  30513.0   2020\n",
       "4  24  광주광역시  27994.0   2020"
      ]
     },
     "execution_count": 3,
     "metadata": {},
     "output_type": "execute_result"
    }
   ],
   "source": [
    "df_cppc_hl.head()"
   ]
  },
  {
   "cell_type": "markdown",
   "id": "d72c8527",
   "metadata": {},
   "source": [
    "## 2. Old Age Dependency Ratio"
   ]
  },
  {
   "cell_type": "markdown",
   "id": "72793474",
   "metadata": {},
   "source": [
    "#### High-level"
   ]
  },
  {
   "cell_type": "code",
   "execution_count": 4,
   "id": "cc125637",
   "metadata": {},
   "outputs": [],
   "source": [
    "# working population = people ages 15 to 64\n",
    "working_pop = ['15 - 19세',\n",
    "               '20 - 24세',\n",
    "               '25 - 29세', \n",
    "               '30 - 34세', \n",
    "               '35 - 39세', \n",
    "               '40 - 44세', \n",
    "               '45 - 49세', \n",
    "               '50 - 54세', \n",
    "               '55 - 59세', \n",
    "               '60 - 64세']\n",
    "\n",
    "# old population = people ages 65 and over\n",
    "old_pop = ['65 - 69세', '70 - 74세', '75 - 79세', '80세 이상']"
   ]
  },
  {
   "cell_type": "code",
   "execution_count": 5,
   "id": "d64b983e",
   "metadata": {},
   "outputs": [],
   "source": [
    "df_oadr_hl = request_data_kosis(url = config['oadr']['hl_url'], target_period = '2021', index = ['C1','C1_NM'], columns = 'C3_NM', scale = 'hl')\n",
    "\n",
    "# calculating people ages 15 to 64 and people ages 65 and over\n",
    "df_oadr_hl['working_pop'] = df_oadr_hl.loc[:,working_pop].sum(axis = 1)\n",
    "df_oadr_hl['old_pop'] = df_oadr_hl.loc[:,old_pop].sum(axis = 1)\n",
    "\n",
    "# calculating old age dependency ratio\n",
    "df_oadr_hl['oadr'] = df_oadr_hl['old_pop'] / df_oadr_hl['working_pop'] "
   ]
  },
  {
   "cell_type": "code",
   "execution_count": 6,
   "id": "6e9aab91",
   "metadata": {},
   "outputs": [],
   "source": [
    "df_oadr_hl = df_oadr_hl.loc[:,['C1','C1_NM', 'oadr', 'period']]"
   ]
  },
  {
   "cell_type": "code",
   "execution_count": 7,
   "id": "6b44a1fc",
   "metadata": {},
   "outputs": [
    {
     "data": {
      "text/html": [
       "<div>\n",
       "<style scoped>\n",
       "    .dataframe tbody tr th:only-of-type {\n",
       "        vertical-align: middle;\n",
       "    }\n",
       "\n",
       "    .dataframe tbody tr th {\n",
       "        vertical-align: top;\n",
       "    }\n",
       "\n",
       "    .dataframe thead th {\n",
       "        text-align: right;\n",
       "    }\n",
       "</style>\n",
       "<table border=\"1\" class=\"dataframe\">\n",
       "  <thead>\n",
       "    <tr style=\"text-align: right;\">\n",
       "      <th></th>\n",
       "      <th>C1</th>\n",
       "      <th>C1_NM</th>\n",
       "      <th>oadr</th>\n",
       "      <th>period</th>\n",
       "    </tr>\n",
       "  </thead>\n",
       "  <tbody>\n",
       "    <tr>\n",
       "      <th>0</th>\n",
       "      <td>11</td>\n",
       "      <td>서울특별시</td>\n",
       "      <td>0.221983</td>\n",
       "      <td>2021</td>\n",
       "    </tr>\n",
       "    <tr>\n",
       "      <th>1</th>\n",
       "      <td>21</td>\n",
       "      <td>부산광역시</td>\n",
       "      <td>0.284877</td>\n",
       "      <td>2021</td>\n",
       "    </tr>\n",
       "    <tr>\n",
       "      <th>2</th>\n",
       "      <td>22</td>\n",
       "      <td>대구광역시</td>\n",
       "      <td>0.238335</td>\n",
       "      <td>2021</td>\n",
       "    </tr>\n",
       "    <tr>\n",
       "      <th>3</th>\n",
       "      <td>23</td>\n",
       "      <td>인천광역시</td>\n",
       "      <td>0.195436</td>\n",
       "      <td>2021</td>\n",
       "    </tr>\n",
       "    <tr>\n",
       "      <th>4</th>\n",
       "      <td>24</td>\n",
       "      <td>광주광역시</td>\n",
       "      <td>0.200308</td>\n",
       "      <td>2021</td>\n",
       "    </tr>\n",
       "  </tbody>\n",
       "</table>\n",
       "</div>"
      ],
      "text/plain": [
       "   C1  C1_NM      oadr period\n",
       "0  11  서울특별시  0.221983   2021\n",
       "1  21  부산광역시  0.284877   2021\n",
       "2  22  대구광역시  0.238335   2021\n",
       "3  23  인천광역시  0.195436   2021\n",
       "4  24  광주광역시  0.200308   2021"
      ]
     },
     "execution_count": 7,
     "metadata": {},
     "output_type": "execute_result"
    }
   ],
   "source": [
    "df_oadr_hl.head()"
   ]
  },
  {
   "cell_type": "markdown",
   "id": "ee5f5aaf",
   "metadata": {},
   "source": [
    "#### Low-level"
   ]
  },
  {
   "cell_type": "code",
   "execution_count": 8,
   "id": "3bea4687",
   "metadata": {},
   "outputs": [],
   "source": [
    "df_oadr_ll = request_data_kosis(url = config['oadr']['ll_url'], target_period = '2021', index = ['C1','C1_NM'], columns = 'C3_NM', scale = 'll')\n",
    "\n",
    "# calculating people ages 15 to 64 and people ages 65 and over\n",
    "df_oadr_ll['old_pop'] = df_oadr_ll.loc[:,old_pop].sum(axis = 1)\n",
    "df_oadr_ll['working_pop'] = df_oadr_ll.loc[:,working_pop].sum(axis = 1)\n",
    "\n",
    "# calculating old age dependency ratio\n",
    "df_oadr_ll['oadr'] = df_oadr_ll['old_pop'] / df_oadr_ll['working_pop'] "
   ]
  },
  {
   "cell_type": "code",
   "execution_count": 9,
   "id": "62438cb2",
   "metadata": {},
   "outputs": [],
   "source": [
    "df_oadr_ll = df_oadr_ll.loc[:,['C1','C1_NM', 'oadr', 'period']]\n",
    "df_oadr_ll = df_oadr_ll[df_oadr_ll['C1'].str.len()!=2]\n",
    "df_oadr_ll['C1_hl'] = df_oadr_ll['C1'].str[:2]"
   ]
  },
  {
   "cell_type": "code",
   "execution_count": 10,
   "id": "2e667f0b",
   "metadata": {},
   "outputs": [],
   "source": [
    "df_oadr_ll = df_oadr_ll.merge(df_oadr_hl.loc[:,['C1','C1_NM']].rename(columns={'C1':'C1_hl','C1_NM':'hl'}), on='C1_hl', how = 'left')\n",
    "df_oadr_ll = df_oadr_ll.loc[np.logical_not((df_oadr_ll['hl'].str[-1]=='도') & (df_oadr_ll['C1_NM'].str[-1]=='구')),:]"
   ]
  },
  {
   "cell_type": "code",
   "execution_count": 11,
   "id": "50cf243d",
   "metadata": {},
   "outputs": [
    {
     "data": {
      "text/html": [
       "<div>\n",
       "<style scoped>\n",
       "    .dataframe tbody tr th:only-of-type {\n",
       "        vertical-align: middle;\n",
       "    }\n",
       "\n",
       "    .dataframe tbody tr th {\n",
       "        vertical-align: top;\n",
       "    }\n",
       "\n",
       "    .dataframe thead th {\n",
       "        text-align: right;\n",
       "    }\n",
       "</style>\n",
       "<table border=\"1\" class=\"dataframe\">\n",
       "  <thead>\n",
       "    <tr style=\"text-align: right;\">\n",
       "      <th></th>\n",
       "      <th>C1</th>\n",
       "      <th>C1_NM</th>\n",
       "      <th>oadr</th>\n",
       "      <th>period</th>\n",
       "      <th>C1_hl</th>\n",
       "      <th>hl</th>\n",
       "    </tr>\n",
       "  </thead>\n",
       "  <tbody>\n",
       "    <tr>\n",
       "      <th>0</th>\n",
       "      <td>11010</td>\n",
       "      <td>종로구</td>\n",
       "      <td>0.252811</td>\n",
       "      <td>2021</td>\n",
       "      <td>11</td>\n",
       "      <td>서울특별시</td>\n",
       "    </tr>\n",
       "    <tr>\n",
       "      <th>1</th>\n",
       "      <td>11020</td>\n",
       "      <td>중구</td>\n",
       "      <td>0.259984</td>\n",
       "      <td>2021</td>\n",
       "      <td>11</td>\n",
       "      <td>서울특별시</td>\n",
       "    </tr>\n",
       "    <tr>\n",
       "      <th>2</th>\n",
       "      <td>11030</td>\n",
       "      <td>용산구</td>\n",
       "      <td>0.223003</td>\n",
       "      <td>2021</td>\n",
       "      <td>11</td>\n",
       "      <td>서울특별시</td>\n",
       "    </tr>\n",
       "    <tr>\n",
       "      <th>3</th>\n",
       "      <td>11040</td>\n",
       "      <td>성동구</td>\n",
       "      <td>0.210080</td>\n",
       "      <td>2021</td>\n",
       "      <td>11</td>\n",
       "      <td>서울특별시</td>\n",
       "    </tr>\n",
       "    <tr>\n",
       "      <th>4</th>\n",
       "      <td>11050</td>\n",
       "      <td>광진구</td>\n",
       "      <td>0.192343</td>\n",
       "      <td>2021</td>\n",
       "      <td>11</td>\n",
       "      <td>서울특별시</td>\n",
       "    </tr>\n",
       "  </tbody>\n",
       "</table>\n",
       "</div>"
      ],
      "text/plain": [
       "      C1 C1_NM      oadr period C1_hl     hl\n",
       "0  11010   종로구  0.252811   2021    11  서울특별시\n",
       "1  11020    중구  0.259984   2021    11  서울특별시\n",
       "2  11030   용산구  0.223003   2021    11  서울특별시\n",
       "3  11040   성동구  0.210080   2021    11  서울특별시\n",
       "4  11050   광진구  0.192343   2021    11  서울특별시"
      ]
     },
     "execution_count": 11,
     "metadata": {},
     "output_type": "execute_result"
    }
   ],
   "source": [
    "df_oadr_ll.head()"
   ]
  },
  {
   "cell_type": "markdown",
   "id": "92665654",
   "metadata": {},
   "source": [
    "## 3. Mean Household Income"
   ]
  },
  {
   "cell_type": "markdown",
   "id": "a125e05f",
   "metadata": {},
   "source": [
    "## 4. Economic Density"
   ]
  },
  {
   "cell_type": "code",
   "execution_count": 17,
   "id": "78c41b2e",
   "metadata": {},
   "outputs": [],
   "source": [
    "df_gdrp_hl = request_data_kosis(url = config['gdrp']['hl_url'], target_period = '2020', variable_name = 'gdrp')\n",
    "df_a_hl = request_data_kosis(url = config['a']['hl_url'], index = ['C1','C1_NM', 'C2', 'C2_NM'], target_period = '2020', variable_name = 'area')\n",
    "\n",
    "# exclude the low-level regions\n",
    "df_a_hl = df_a_hl.loc[(df_a_hl['C1_NM'] == df_a_hl['C2_NM']) & (df_a_hl['C2_NM'] != '전국'),:].reset_index(drop=True).drop(['C2','C2_NM'], axis = 1)"
   ]
  },
  {
   "cell_type": "code",
   "execution_count": 18,
   "id": "865df118",
   "metadata": {},
   "outputs": [],
   "source": [
    "df_a_hl['C1_NM'] = df_a_hl['C1_NM'].apply(lambda x: map_hl(x,dict_hl_name))"
   ]
  },
  {
   "cell_type": "code",
   "execution_count": 19,
   "id": "ba8d1f0e",
   "metadata": {},
   "outputs": [
    {
     "data": {
      "text/html": [
       "<div>\n",
       "<style scoped>\n",
       "    .dataframe tbody tr th:only-of-type {\n",
       "        vertical-align: middle;\n",
       "    }\n",
       "\n",
       "    .dataframe tbody tr th {\n",
       "        vertical-align: top;\n",
       "    }\n",
       "\n",
       "    .dataframe thead th {\n",
       "        text-align: right;\n",
       "    }\n",
       "</style>\n",
       "<table border=\"1\" class=\"dataframe\">\n",
       "  <thead>\n",
       "    <tr style=\"text-align: right;\">\n",
       "      <th></th>\n",
       "      <th>C1</th>\n",
       "      <th>C1_NM</th>\n",
       "      <th>gdrp</th>\n",
       "      <th>period</th>\n",
       "      <th>area</th>\n",
       "    </tr>\n",
       "  </thead>\n",
       "  <tbody>\n",
       "    <tr>\n",
       "      <th>0</th>\n",
       "      <td>11</td>\n",
       "      <td>서울특별시</td>\n",
       "      <td>413669812.0</td>\n",
       "      <td>2020</td>\n",
       "      <td>6.052285e+08</td>\n",
       "    </tr>\n",
       "    <tr>\n",
       "      <th>1</th>\n",
       "      <td>21</td>\n",
       "      <td>부산광역시</td>\n",
       "      <td>86499417.0</td>\n",
       "      <td>2020</td>\n",
       "      <td>7.700748e+08</td>\n",
       "    </tr>\n",
       "    <tr>\n",
       "      <th>2</th>\n",
       "      <td>22</td>\n",
       "      <td>대구광역시</td>\n",
       "      <td>54000377.0</td>\n",
       "      <td>2020</td>\n",
       "      <td>8.834875e+08</td>\n",
       "    </tr>\n",
       "    <tr>\n",
       "      <th>3</th>\n",
       "      <td>23</td>\n",
       "      <td>인천광역시</td>\n",
       "      <td>85404479.0</td>\n",
       "      <td>2020</td>\n",
       "      <td>1.065226e+09</td>\n",
       "    </tr>\n",
       "    <tr>\n",
       "      <th>4</th>\n",
       "      <td>24</td>\n",
       "      <td>광주광역시</td>\n",
       "      <td>39214877.0</td>\n",
       "      <td>2020</td>\n",
       "      <td>5.011284e+08</td>\n",
       "    </tr>\n",
       "    <tr>\n",
       "      <th>5</th>\n",
       "      <td>25</td>\n",
       "      <td>대전광역시</td>\n",
       "      <td>41061819.0</td>\n",
       "      <td>2020</td>\n",
       "      <td>5.396635e+08</td>\n",
       "    </tr>\n",
       "    <tr>\n",
       "      <th>6</th>\n",
       "      <td>26</td>\n",
       "      <td>울산광역시</td>\n",
       "      <td>66837557.0</td>\n",
       "      <td>2020</td>\n",
       "      <td>1.062086e+09</td>\n",
       "    </tr>\n",
       "    <tr>\n",
       "      <th>7</th>\n",
       "      <td>29</td>\n",
       "      <td>세종특별자치시</td>\n",
       "      <td>11659372.0</td>\n",
       "      <td>2020</td>\n",
       "      <td>4.649124e+08</td>\n",
       "    </tr>\n",
       "    <tr>\n",
       "      <th>8</th>\n",
       "      <td>31</td>\n",
       "      <td>경기도</td>\n",
       "      <td>467281507.0</td>\n",
       "      <td>2020</td>\n",
       "      <td>1.019527e+10</td>\n",
       "    </tr>\n",
       "    <tr>\n",
       "      <th>9</th>\n",
       "      <td>32</td>\n",
       "      <td>강원도</td>\n",
       "      <td>45122237.0</td>\n",
       "      <td>2020</td>\n",
       "      <td>1.682968e+10</td>\n",
       "    </tr>\n",
       "    <tr>\n",
       "      <th>10</th>\n",
       "      <td>33</td>\n",
       "      <td>충청북도</td>\n",
       "      <td>67800632.0</td>\n",
       "      <td>2020</td>\n",
       "      <td>7.406955e+09</td>\n",
       "    </tr>\n",
       "    <tr>\n",
       "      <th>11</th>\n",
       "      <td>34</td>\n",
       "      <td>충청남도</td>\n",
       "      <td>111767711.0</td>\n",
       "      <td>2020</td>\n",
       "      <td>8.246168e+09</td>\n",
       "    </tr>\n",
       "    <tr>\n",
       "      <th>12</th>\n",
       "      <td>35</td>\n",
       "      <td>전라북도</td>\n",
       "      <td>49573729.0</td>\n",
       "      <td>2020</td>\n",
       "      <td>8.069836e+09</td>\n",
       "    </tr>\n",
       "    <tr>\n",
       "      <th>13</th>\n",
       "      <td>36</td>\n",
       "      <td>전라남도</td>\n",
       "      <td>74530163.0</td>\n",
       "      <td>2020</td>\n",
       "      <td>1.234809e+10</td>\n",
       "    </tr>\n",
       "    <tr>\n",
       "      <th>14</th>\n",
       "      <td>37</td>\n",
       "      <td>경상북도</td>\n",
       "      <td>101376083.0</td>\n",
       "      <td>2020</td>\n",
       "      <td>1.903403e+10</td>\n",
       "    </tr>\n",
       "    <tr>\n",
       "      <th>15</th>\n",
       "      <td>38</td>\n",
       "      <td>경상남도</td>\n",
       "      <td>104874046.0</td>\n",
       "      <td>2020</td>\n",
       "      <td>1.054055e+10</td>\n",
       "    </tr>\n",
       "    <tr>\n",
       "      <th>16</th>\n",
       "      <td>39</td>\n",
       "      <td>제주특별자치도</td>\n",
       "      <td>17920915.0</td>\n",
       "      <td>2020</td>\n",
       "      <td>1.850211e+09</td>\n",
       "    </tr>\n",
       "  </tbody>\n",
       "</table>\n",
       "</div>"
      ],
      "text/plain": [
       "    C1    C1_NM         gdrp period          area\n",
       "0   11    서울특별시  413669812.0   2020  6.052285e+08\n",
       "1   21    부산광역시   86499417.0   2020  7.700748e+08\n",
       "2   22    대구광역시   54000377.0   2020  8.834875e+08\n",
       "3   23    인천광역시   85404479.0   2020  1.065226e+09\n",
       "4   24    광주광역시   39214877.0   2020  5.011284e+08\n",
       "5   25    대전광역시   41061819.0   2020  5.396635e+08\n",
       "6   26    울산광역시   66837557.0   2020  1.062086e+09\n",
       "7   29  세종특별자치시   11659372.0   2020  4.649124e+08\n",
       "8   31      경기도  467281507.0   2020  1.019527e+10\n",
       "9   32      강원도   45122237.0   2020  1.682968e+10\n",
       "10  33     충청북도   67800632.0   2020  7.406955e+09\n",
       "11  34     충청남도  111767711.0   2020  8.246168e+09\n",
       "12  35     전라북도   49573729.0   2020  8.069836e+09\n",
       "13  36     전라남도   74530163.0   2020  1.234809e+10\n",
       "14  37     경상북도  101376083.0   2020  1.903403e+10\n",
       "15  38     경상남도  104874046.0   2020  1.054055e+10\n",
       "16  39  제주특별자치도   17920915.0   2020  1.850211e+09"
      ]
     },
     "execution_count": 19,
     "metadata": {},
     "output_type": "execute_result"
    }
   ],
   "source": [
    "df_gdrp_hl.merge(df_a_hl.loc[:,['C1_NM','area']], on='C1_NM')"
   ]
  },
  {
   "cell_type": "markdown",
   "id": "69167176",
   "metadata": {},
   "source": [
    "## 5. Economic Specialization"
   ]
  },
  {
   "cell_type": "markdown",
   "id": "f15dbaf6",
   "metadata": {},
   "source": [
    "## 6. Unemployment Rate"
   ]
  },
  {
   "cell_type": "code",
   "execution_count": 26,
   "id": "dd84d8d5",
   "metadata": {},
   "outputs": [],
   "source": [
    "# 광역지방자치단체\n",
    "df_uer_hl = request_data_kosis(url = config['uer']['hl_url'], target_period = '2021', variable_name = 'uer')\n",
    "\n",
    "# 기초지방자치단체\n",
    "df_uer_ll = request_data_kosis(url = config['uer']['ll_url'], target_period = '202102', variable_name = 'uer')\n",
    "df_uer_ll['period'] = '2021 2nd half'"
   ]
  },
  {
   "cell_type": "code",
   "execution_count": 27,
   "id": "f870d995",
   "metadata": {},
   "outputs": [
    {
     "name": "stdout",
     "output_type": "stream",
     "text": [
      "(17, 4)\n"
     ]
    },
    {
     "data": {
      "text/html": [
       "<div>\n",
       "<style scoped>\n",
       "    .dataframe tbody tr th:only-of-type {\n",
       "        vertical-align: middle;\n",
       "    }\n",
       "\n",
       "    .dataframe tbody tr th {\n",
       "        vertical-align: top;\n",
       "    }\n",
       "\n",
       "    .dataframe thead th {\n",
       "        text-align: right;\n",
       "    }\n",
       "</style>\n",
       "<table border=\"1\" class=\"dataframe\">\n",
       "  <thead>\n",
       "    <tr style=\"text-align: right;\">\n",
       "      <th></th>\n",
       "      <th>C1</th>\n",
       "      <th>C1_NM</th>\n",
       "      <th>uer</th>\n",
       "      <th>period</th>\n",
       "    </tr>\n",
       "  </thead>\n",
       "  <tbody>\n",
       "    <tr>\n",
       "      <th>0</th>\n",
       "      <td>11</td>\n",
       "      <td>서울특별시</td>\n",
       "      <td>4.8</td>\n",
       "      <td>2021</td>\n",
       "    </tr>\n",
       "    <tr>\n",
       "      <th>1</th>\n",
       "      <td>21</td>\n",
       "      <td>부산광역시</td>\n",
       "      <td>3.4</td>\n",
       "      <td>2021</td>\n",
       "    </tr>\n",
       "    <tr>\n",
       "      <th>2</th>\n",
       "      <td>22</td>\n",
       "      <td>대구광역시</td>\n",
       "      <td>3.7</td>\n",
       "      <td>2021</td>\n",
       "    </tr>\n",
       "    <tr>\n",
       "      <th>3</th>\n",
       "      <td>23</td>\n",
       "      <td>인천광역시</td>\n",
       "      <td>4.0</td>\n",
       "      <td>2021</td>\n",
       "    </tr>\n",
       "    <tr>\n",
       "      <th>4</th>\n",
       "      <td>24</td>\n",
       "      <td>광주광역시</td>\n",
       "      <td>3.6</td>\n",
       "      <td>2021</td>\n",
       "    </tr>\n",
       "  </tbody>\n",
       "</table>\n",
       "</div>"
      ],
      "text/plain": [
       "   C1  C1_NM  uer period\n",
       "0  11  서울특별시  4.8   2021\n",
       "1  21  부산광역시  3.4   2021\n",
       "2  22  대구광역시  3.7   2021\n",
       "3  23  인천광역시  4.0   2021\n",
       "4  24  광주광역시  3.6   2021"
      ]
     },
     "execution_count": 27,
     "metadata": {},
     "output_type": "execute_result"
    }
   ],
   "source": [
    "print(df_uer_hl.shape)\n",
    "df_uer_hl.head()"
   ]
  },
  {
   "cell_type": "code",
   "execution_count": 28,
   "id": "e284a56b",
   "metadata": {},
   "outputs": [
    {
     "name": "stdout",
     "output_type": "stream",
     "text": [
      "(228, 4)\n"
     ]
    },
    {
     "data": {
      "text/html": [
       "<div>\n",
       "<style scoped>\n",
       "    .dataframe tbody tr th:only-of-type {\n",
       "        vertical-align: middle;\n",
       "    }\n",
       "\n",
       "    .dataframe tbody tr th {\n",
       "        vertical-align: top;\n",
       "    }\n",
       "\n",
       "    .dataframe thead th {\n",
       "        text-align: right;\n",
       "    }\n",
       "</style>\n",
       "<table border=\"1\" class=\"dataframe\">\n",
       "  <thead>\n",
       "    <tr style=\"text-align: right;\">\n",
       "      <th></th>\n",
       "      <th>C1</th>\n",
       "      <th>C1_NM</th>\n",
       "      <th>uer</th>\n",
       "      <th>period</th>\n",
       "    </tr>\n",
       "  </thead>\n",
       "  <tbody>\n",
       "    <tr>\n",
       "      <th>0</th>\n",
       "      <td>1101</td>\n",
       "      <td>서울 종로구</td>\n",
       "      <td>4.0</td>\n",
       "      <td>2021 2nd half</td>\n",
       "    </tr>\n",
       "    <tr>\n",
       "      <th>1</th>\n",
       "      <td>1102</td>\n",
       "      <td>서울 중구</td>\n",
       "      <td>4.3</td>\n",
       "      <td>2021 2nd half</td>\n",
       "    </tr>\n",
       "    <tr>\n",
       "      <th>2</th>\n",
       "      <td>1103</td>\n",
       "      <td>서울 용산구</td>\n",
       "      <td>4.8</td>\n",
       "      <td>2021 2nd half</td>\n",
       "    </tr>\n",
       "    <tr>\n",
       "      <th>3</th>\n",
       "      <td>1104</td>\n",
       "      <td>서울 성동구</td>\n",
       "      <td>5.0</td>\n",
       "      <td>2021 2nd half</td>\n",
       "    </tr>\n",
       "    <tr>\n",
       "      <th>4</th>\n",
       "      <td>1105</td>\n",
       "      <td>서울 광진구</td>\n",
       "      <td>3.8</td>\n",
       "      <td>2021 2nd half</td>\n",
       "    </tr>\n",
       "  </tbody>\n",
       "</table>\n",
       "</div>"
      ],
      "text/plain": [
       "     C1   C1_NM  uer         period\n",
       "0  1101  서울 종로구  4.0  2021 2nd half\n",
       "1  1102   서울 중구  4.3  2021 2nd half\n",
       "2  1103  서울 용산구  4.8  2021 2nd half\n",
       "3  1104  서울 성동구  5.0  2021 2nd half\n",
       "4  1105  서울 광진구  3.8  2021 2nd half"
      ]
     },
     "execution_count": 28,
     "metadata": {},
     "output_type": "execute_result"
    }
   ],
   "source": [
    "print(df_uer_ll.shape)\n",
    "df_uer_ll.head()"
   ]
  },
  {
   "cell_type": "code",
   "execution_count": 29,
   "id": "1f0db981",
   "metadata": {},
   "outputs": [
    {
     "data": {
      "text/plain": [
       "(228, 4)"
      ]
     },
     "execution_count": 29,
     "metadata": {},
     "output_type": "execute_result"
    }
   ],
   "source": [
    "df_uer_ll.shape"
   ]
  },
  {
   "cell_type": "markdown",
   "id": "94881d8b",
   "metadata": {},
   "source": [
    "## 7. Employment to Population Ratio"
   ]
  },
  {
   "cell_type": "code",
   "execution_count": 30,
   "id": "b1eb47a3",
   "metadata": {},
   "outputs": [],
   "source": [
    "df_epr_hl = request_data_kosis(url = config['epr']['hl_url'], target_period = '2021', variable_name = 'epr')\n",
    "df_epr_ll = request_data_kosis(url = config['epr']['ll_url'], target_period = '202102', variable_name = 'epr')\n",
    "df_epr_ll['period'] = '2021 2nd half'"
   ]
  },
  {
   "cell_type": "code",
   "execution_count": 31,
   "id": "fa9fa64c",
   "metadata": {},
   "outputs": [
    {
     "name": "stdout",
     "output_type": "stream",
     "text": [
      "(17, 4)\n"
     ]
    },
    {
     "data": {
      "text/html": [
       "<div>\n",
       "<style scoped>\n",
       "    .dataframe tbody tr th:only-of-type {\n",
       "        vertical-align: middle;\n",
       "    }\n",
       "\n",
       "    .dataframe tbody tr th {\n",
       "        vertical-align: top;\n",
       "    }\n",
       "\n",
       "    .dataframe thead th {\n",
       "        text-align: right;\n",
       "    }\n",
       "</style>\n",
       "<table border=\"1\" class=\"dataframe\">\n",
       "  <thead>\n",
       "    <tr style=\"text-align: right;\">\n",
       "      <th></th>\n",
       "      <th>C1</th>\n",
       "      <th>C1_NM</th>\n",
       "      <th>epr</th>\n",
       "      <th>period</th>\n",
       "    </tr>\n",
       "  </thead>\n",
       "  <tbody>\n",
       "    <tr>\n",
       "      <th>0</th>\n",
       "      <td>11</td>\n",
       "      <td>서울특별시</td>\n",
       "      <td>59.2</td>\n",
       "      <td>2021</td>\n",
       "    </tr>\n",
       "    <tr>\n",
       "      <th>1</th>\n",
       "      <td>21</td>\n",
       "      <td>부산광역시</td>\n",
       "      <td>56.2</td>\n",
       "      <td>2021</td>\n",
       "    </tr>\n",
       "    <tr>\n",
       "      <th>2</th>\n",
       "      <td>22</td>\n",
       "      <td>대구광역시</td>\n",
       "      <td>58.2</td>\n",
       "      <td>2021</td>\n",
       "    </tr>\n",
       "    <tr>\n",
       "      <th>3</th>\n",
       "      <td>23</td>\n",
       "      <td>인천광역시</td>\n",
       "      <td>61.3</td>\n",
       "      <td>2021</td>\n",
       "    </tr>\n",
       "    <tr>\n",
       "      <th>4</th>\n",
       "      <td>24</td>\n",
       "      <td>광주광역시</td>\n",
       "      <td>58.2</td>\n",
       "      <td>2021</td>\n",
       "    </tr>\n",
       "  </tbody>\n",
       "</table>\n",
       "</div>"
      ],
      "text/plain": [
       "   C1  C1_NM   epr period\n",
       "0  11  서울특별시  59.2   2021\n",
       "1  21  부산광역시  56.2   2021\n",
       "2  22  대구광역시  58.2   2021\n",
       "3  23  인천광역시  61.3   2021\n",
       "4  24  광주광역시  58.2   2021"
      ]
     },
     "execution_count": 31,
     "metadata": {},
     "output_type": "execute_result"
    }
   ],
   "source": [
    "print(df_epr_hl.shape)\n",
    "df_epr_hl.head()"
   ]
  },
  {
   "cell_type": "code",
   "execution_count": 32,
   "metadata": {},
   "outputs": [
    {
     "name": "stdout",
     "output_type": "stream",
     "text": [
      "(228, 4)\n"
     ]
    },
    {
     "data": {
      "text/html": [
       "<div>\n",
       "<style scoped>\n",
       "    .dataframe tbody tr th:only-of-type {\n",
       "        vertical-align: middle;\n",
       "    }\n",
       "\n",
       "    .dataframe tbody tr th {\n",
       "        vertical-align: top;\n",
       "    }\n",
       "\n",
       "    .dataframe thead th {\n",
       "        text-align: right;\n",
       "    }\n",
       "</style>\n",
       "<table border=\"1\" class=\"dataframe\">\n",
       "  <thead>\n",
       "    <tr style=\"text-align: right;\">\n",
       "      <th></th>\n",
       "      <th>C1</th>\n",
       "      <th>C1_NM</th>\n",
       "      <th>epr</th>\n",
       "      <th>period</th>\n",
       "    </tr>\n",
       "  </thead>\n",
       "  <tbody>\n",
       "    <tr>\n",
       "      <th>0</th>\n",
       "      <td>1101</td>\n",
       "      <td>서울 종로구</td>\n",
       "      <td>56.1</td>\n",
       "      <td>2021 2nd half</td>\n",
       "    </tr>\n",
       "    <tr>\n",
       "      <th>1</th>\n",
       "      <td>1102</td>\n",
       "      <td>서울 중구</td>\n",
       "      <td>55.9</td>\n",
       "      <td>2021 2nd half</td>\n",
       "    </tr>\n",
       "    <tr>\n",
       "      <th>2</th>\n",
       "      <td>1103</td>\n",
       "      <td>서울 용산구</td>\n",
       "      <td>59.5</td>\n",
       "      <td>2021 2nd half</td>\n",
       "    </tr>\n",
       "    <tr>\n",
       "      <th>3</th>\n",
       "      <td>1104</td>\n",
       "      <td>서울 성동구</td>\n",
       "      <td>56.4</td>\n",
       "      <td>2021 2nd half</td>\n",
       "    </tr>\n",
       "    <tr>\n",
       "      <th>4</th>\n",
       "      <td>1105</td>\n",
       "      <td>서울 광진구</td>\n",
       "      <td>57.5</td>\n",
       "      <td>2021 2nd half</td>\n",
       "    </tr>\n",
       "  </tbody>\n",
       "</table>\n",
       "</div>"
      ],
      "text/plain": [
       "     C1   C1_NM   epr         period\n",
       "0  1101  서울 종로구  56.1  2021 2nd half\n",
       "1  1102   서울 중구  55.9  2021 2nd half\n",
       "2  1103  서울 용산구  59.5  2021 2nd half\n",
       "3  1104  서울 성동구  56.4  2021 2nd half\n",
       "4  1105  서울 광진구  57.5  2021 2nd half"
      ]
     },
     "execution_count": 32,
     "metadata": {},
     "output_type": "execute_result"
    }
   ],
   "source": [
    "print(df_epr_ll.shape)\n",
    "df_epr_ll.head()"
   ]
  },
  {
   "cell_type": "markdown",
   "id": "2e06a1e4",
   "metadata": {},
   "source": [
    "## 8. Informal Employment"
   ]
  },
  {
   "cell_type": "code",
   "execution_count": 33,
   "id": "6ce02f11",
   "metadata": {},
   "outputs": [],
   "source": [
    "df_ie_hl = request_data_kosis(config['ie']['hl_url'], target_period = '2021', variable_name = 'ie')"
   ]
  },
  {
   "cell_type": "code",
   "execution_count": 34,
   "id": "94562345",
   "metadata": {},
   "outputs": [
    {
     "name": "stdout",
     "output_type": "stream",
     "text": [
      "(17, 4)\n"
     ]
    },
    {
     "data": {
      "text/html": [
       "<div>\n",
       "<style scoped>\n",
       "    .dataframe tbody tr th:only-of-type {\n",
       "        vertical-align: middle;\n",
       "    }\n",
       "\n",
       "    .dataframe tbody tr th {\n",
       "        vertical-align: top;\n",
       "    }\n",
       "\n",
       "    .dataframe thead th {\n",
       "        text-align: right;\n",
       "    }\n",
       "</style>\n",
       "<table border=\"1\" class=\"dataframe\">\n",
       "  <thead>\n",
       "    <tr style=\"text-align: right;\">\n",
       "      <th></th>\n",
       "      <th>C1</th>\n",
       "      <th>C1_NM</th>\n",
       "      <th>ie</th>\n",
       "      <th>period</th>\n",
       "    </tr>\n",
       "  </thead>\n",
       "  <tbody>\n",
       "    <tr>\n",
       "      <th>0</th>\n",
       "      <td>11</td>\n",
       "      <td>서울특별시</td>\n",
       "      <td>38.5</td>\n",
       "      <td>2021</td>\n",
       "    </tr>\n",
       "    <tr>\n",
       "      <th>1</th>\n",
       "      <td>21</td>\n",
       "      <td>부산광역시</td>\n",
       "      <td>41.1</td>\n",
       "      <td>2021</td>\n",
       "    </tr>\n",
       "    <tr>\n",
       "      <th>2</th>\n",
       "      <td>22</td>\n",
       "      <td>대구광역시</td>\n",
       "      <td>38.3</td>\n",
       "      <td>2021</td>\n",
       "    </tr>\n",
       "    <tr>\n",
       "      <th>3</th>\n",
       "      <td>23</td>\n",
       "      <td>인천광역시</td>\n",
       "      <td>37.1</td>\n",
       "      <td>2021</td>\n",
       "    </tr>\n",
       "    <tr>\n",
       "      <th>4</th>\n",
       "      <td>24</td>\n",
       "      <td>광주광역시</td>\n",
       "      <td>40.0</td>\n",
       "      <td>2021</td>\n",
       "    </tr>\n",
       "  </tbody>\n",
       "</table>\n",
       "</div>"
      ],
      "text/plain": [
       "   C1  C1_NM    ie period\n",
       "0  11  서울특별시  38.5   2021\n",
       "1  21  부산광역시  41.1   2021\n",
       "2  22  대구광역시  38.3   2021\n",
       "3  23  인천광역시  37.1   2021\n",
       "4  24  광주광역시  40.0   2021"
      ]
     },
     "execution_count": 34,
     "metadata": {},
     "output_type": "execute_result"
    }
   ],
   "source": [
    "print(df_ie_hl.shape)\n",
    "df_ie_hl.head()"
   ]
  }
 ],
 "metadata": {
  "kernelspec": {
   "display_name": "Python 3.10.4 ('cpi')",
   "language": "python",
   "name": "python3"
  },
  "language_info": {
   "codemirror_mode": {
    "name": "ipython",
    "version": 3
   },
   "file_extension": ".py",
   "mimetype": "text/x-python",
   "name": "python",
   "nbconvert_exporter": "python",
   "pygments_lexer": "ipython3",
   "version": "3.10.4"
  },
  "vscode": {
   "interpreter": {
    "hash": "d6f9b90e74ef7e4f229a2661193ae14e3b82de2db7e6e3d0b73e515f9eb02c1f"
   }
  }
 },
 "nbformat": 4,
 "nbformat_minor": 5
}
