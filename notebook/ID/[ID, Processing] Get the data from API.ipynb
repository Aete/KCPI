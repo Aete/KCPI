{
 "cells": [
  {
   "cell_type": "code",
   "execution_count": 9,
   "id": "db0c4fba",
   "metadata": {},
   "outputs": [
    {
     "data": {
      "text/plain": [
       "['../../config.ini']"
      ]
     },
     "execution_count": 9,
     "metadata": {},
     "output_type": "execute_result"
    }
   ],
   "source": [
    "# import libraries\n",
    "# for processing data tables\n",
    "import numpy as np\n",
    "import pandas as pd\n",
    "\n",
    "# for visualizations\n",
    "import matplotlib.pyplot as plt\n",
    "import seaborn as sns\n",
    "\n",
    "# for sending requests to url and parsing\n",
    "import requests\n",
    "import json\n",
    "\n",
    "import sys\n",
    "sys.path.append('../')\n",
    "\n",
    "# import useful cumtom functions and variables from my helper.py\n",
    "from helper import request_data_kosis\n",
    "from helper import dict_hl_name\n",
    "from helper import map_hl\n",
    "from helper import request_data_libsta\n",
    "\n",
    "import configparser\n",
    "config = configparser.ConfigParser()\n",
    "config.read('../../config.ini')"
   ]
  },
  {
   "cell_type": "markdown",
   "id": "c5eaff71",
   "metadata": {},
   "source": [
    "## Physiscian Density"
   ]
  },
  {
   "cell_type": "code",
   "execution_count": 16,
   "id": "8fd2d6f9",
   "metadata": {},
   "outputs": [],
   "source": [
    "df_phd_hl = request_data_kosis(url = config['phd']['hl_url'], target_period = '2021', variable_name = 'phd')\n",
    "df_phd_ll = request_data_kosis(url = config['phd']['ll_url'], target_period = '2021', variable_name = 'phd')"
   ]
  },
  {
   "cell_type": "code",
   "execution_count": 17,
   "id": "bb551d2d",
   "metadata": {},
   "outputs": [
    {
     "data": {
      "text/html": [
       "<div>\n",
       "<style scoped>\n",
       "    .dataframe tbody tr th:only-of-type {\n",
       "        vertical-align: middle;\n",
       "    }\n",
       "\n",
       "    .dataframe tbody tr th {\n",
       "        vertical-align: top;\n",
       "    }\n",
       "\n",
       "    .dataframe thead th {\n",
       "        text-align: right;\n",
       "    }\n",
       "</style>\n",
       "<table border=\"1\" class=\"dataframe\">\n",
       "  <thead>\n",
       "    <tr style=\"text-align: right;\">\n",
       "      <th></th>\n",
       "      <th>C1</th>\n",
       "      <th>C1_NM</th>\n",
       "      <th>phd</th>\n",
       "      <th>period</th>\n",
       "    </tr>\n",
       "  </thead>\n",
       "  <tbody>\n",
       "    <tr>\n",
       "      <th>0</th>\n",
       "      <td>11</td>\n",
       "      <td>서울특별시</td>\n",
       "      <td>4.7</td>\n",
       "      <td>2021</td>\n",
       "    </tr>\n",
       "    <tr>\n",
       "      <th>1</th>\n",
       "      <td>21</td>\n",
       "      <td>부산광역시</td>\n",
       "      <td>3.5</td>\n",
       "      <td>2021</td>\n",
       "    </tr>\n",
       "    <tr>\n",
       "      <th>2</th>\n",
       "      <td>22</td>\n",
       "      <td>대구광역시</td>\n",
       "      <td>3.6</td>\n",
       "      <td>2021</td>\n",
       "    </tr>\n",
       "    <tr>\n",
       "      <th>3</th>\n",
       "      <td>23</td>\n",
       "      <td>인천광역시</td>\n",
       "      <td>2.6</td>\n",
       "      <td>2021</td>\n",
       "    </tr>\n",
       "    <tr>\n",
       "      <th>4</th>\n",
       "      <td>24</td>\n",
       "      <td>광주광역시</td>\n",
       "      <td>3.7</td>\n",
       "      <td>2021</td>\n",
       "    </tr>\n",
       "  </tbody>\n",
       "</table>\n",
       "</div>"
      ],
      "text/plain": [
       "   C1  C1_NM  phd period\n",
       "0  11  서울특별시  4.7   2021\n",
       "1  21  부산광역시  3.5   2021\n",
       "2  22  대구광역시  3.6   2021\n",
       "3  23  인천광역시  2.6   2021\n",
       "4  24  광주광역시  3.7   2021"
      ]
     },
     "execution_count": 17,
     "metadata": {},
     "output_type": "execute_result"
    }
   ],
   "source": [
    "df_phd_hl.head()"
   ]
  },
  {
   "cell_type": "code",
   "execution_count": 19,
   "id": "05cb73c8",
   "metadata": {},
   "outputs": [
    {
     "data": {
      "text/html": [
       "<div>\n",
       "<style scoped>\n",
       "    .dataframe tbody tr th:only-of-type {\n",
       "        vertical-align: middle;\n",
       "    }\n",
       "\n",
       "    .dataframe tbody tr th {\n",
       "        vertical-align: top;\n",
       "    }\n",
       "\n",
       "    .dataframe thead th {\n",
       "        text-align: right;\n",
       "    }\n",
       "</style>\n",
       "<table border=\"1\" class=\"dataframe\">\n",
       "  <thead>\n",
       "    <tr style=\"text-align: right;\">\n",
       "      <th></th>\n",
       "      <th>C1</th>\n",
       "      <th>C1_NM</th>\n",
       "      <th>phd</th>\n",
       "      <th>period</th>\n",
       "      <th>C1_hl</th>\n",
       "      <th>hl</th>\n",
       "    </tr>\n",
       "  </thead>\n",
       "  <tbody>\n",
       "    <tr>\n",
       "      <th>0</th>\n",
       "      <td>11010</td>\n",
       "      <td>종로구</td>\n",
       "      <td>21.1</td>\n",
       "      <td>2021</td>\n",
       "      <td>11</td>\n",
       "      <td>서울특별시</td>\n",
       "    </tr>\n",
       "    <tr>\n",
       "      <th>1</th>\n",
       "      <td>11020</td>\n",
       "      <td>중구</td>\n",
       "      <td>10.2</td>\n",
       "      <td>2021</td>\n",
       "      <td>11</td>\n",
       "      <td>서울특별시</td>\n",
       "    </tr>\n",
       "    <tr>\n",
       "      <th>2</th>\n",
       "      <td>11030</td>\n",
       "      <td>용산구</td>\n",
       "      <td>3.6</td>\n",
       "      <td>2021</td>\n",
       "      <td>11</td>\n",
       "      <td>서울특별시</td>\n",
       "    </tr>\n",
       "    <tr>\n",
       "      <th>3</th>\n",
       "      <td>11040</td>\n",
       "      <td>성동구</td>\n",
       "      <td>3.6</td>\n",
       "      <td>2021</td>\n",
       "      <td>11</td>\n",
       "      <td>서울특별시</td>\n",
       "    </tr>\n",
       "    <tr>\n",
       "      <th>4</th>\n",
       "      <td>11050</td>\n",
       "      <td>광진구</td>\n",
       "      <td>3.8</td>\n",
       "      <td>2021</td>\n",
       "      <td>11</td>\n",
       "      <td>서울특별시</td>\n",
       "    </tr>\n",
       "    <tr>\n",
       "      <th>...</th>\n",
       "      <td>...</td>\n",
       "      <td>...</td>\n",
       "      <td>...</td>\n",
       "      <td>...</td>\n",
       "      <td>...</td>\n",
       "      <td>...</td>\n",
       "    </tr>\n",
       "    <tr>\n",
       "      <th>223</th>\n",
       "      <td>38380</td>\n",
       "      <td>함양군</td>\n",
       "      <td>1.8</td>\n",
       "      <td>2021</td>\n",
       "      <td>38</td>\n",
       "      <td>경상남도</td>\n",
       "    </tr>\n",
       "    <tr>\n",
       "      <th>224</th>\n",
       "      <td>38390</td>\n",
       "      <td>거창군</td>\n",
       "      <td>2.0</td>\n",
       "      <td>2021</td>\n",
       "      <td>38</td>\n",
       "      <td>경상남도</td>\n",
       "    </tr>\n",
       "    <tr>\n",
       "      <th>225</th>\n",
       "      <td>38400</td>\n",
       "      <td>합천군</td>\n",
       "      <td>2.2</td>\n",
       "      <td>2021</td>\n",
       "      <td>38</td>\n",
       "      <td>경상남도</td>\n",
       "    </tr>\n",
       "    <tr>\n",
       "      <th>226</th>\n",
       "      <td>39010</td>\n",
       "      <td>제주시</td>\n",
       "      <td>2.9</td>\n",
       "      <td>2021</td>\n",
       "      <td>39</td>\n",
       "      <td>제주특별자치도</td>\n",
       "    </tr>\n",
       "    <tr>\n",
       "      <th>227</th>\n",
       "      <td>39020</td>\n",
       "      <td>서귀포시</td>\n",
       "      <td>1.7</td>\n",
       "      <td>2021</td>\n",
       "      <td>39</td>\n",
       "      <td>제주특별자치도</td>\n",
       "    </tr>\n",
       "  </tbody>\n",
       "</table>\n",
       "<p>228 rows × 6 columns</p>\n",
       "</div>"
      ],
      "text/plain": [
       "        C1 C1_NM   phd period C1_hl       hl\n",
       "0    11010   종로구  21.1   2021    11    서울특별시\n",
       "1    11020    중구  10.2   2021    11    서울특별시\n",
       "2    11030   용산구   3.6   2021    11    서울특별시\n",
       "3    11040   성동구   3.6   2021    11    서울특별시\n",
       "4    11050   광진구   3.8   2021    11    서울특별시\n",
       "..     ...   ...   ...    ...   ...      ...\n",
       "223  38380   함양군   1.8   2021    38     경상남도\n",
       "224  38390   거창군   2.0   2021    38     경상남도\n",
       "225  38400   합천군   2.2   2021    38     경상남도\n",
       "226  39010   제주시   2.9   2021    39  제주특별자치도\n",
       "227  39020  서귀포시   1.7   2021    39  제주특별자치도\n",
       "\n",
       "[228 rows x 6 columns]"
      ]
     },
     "execution_count": 19,
     "metadata": {},
     "output_type": "execute_result"
    }
   ],
   "source": [
    "df_phd_ll['C1_hl'] = df_phd_ll['C1'].str[:2]\n",
    "df_phd_ll.merge(df_phd_hl.loc[:,['C1','C1_NM']].rename(columns={'C1':'C1_hl','C1_NM':'hl'}), on='C1_hl', how = 'left')"
   ]
  },
  {
   "cell_type": "code",
   "execution_count": null,
   "id": "7b3a41a5",
   "metadata": {},
   "outputs": [],
   "source": []
  },
  {
   "cell_type": "markdown",
   "id": "a80eec22",
   "metadata": {},
   "source": [
    "## Number of Public Libraries"
   ]
  },
  {
   "cell_type": "code",
   "execution_count": 2,
   "id": "0fd22240",
   "metadata": {},
   "outputs": [],
   "source": [
    "df_npl_hl = request_data_libsta(config['npl']['hl_url'], map_hl, dict_hl_name)\n",
    "\n",
    "df_pop_hl = request_data_kosis(url = config['pop']['hl_url'], target_period = '2020', variable_name = 'pop')\n",
    "df_pop_hl['C1_NM'] = df_pop_hl['C1_NM'].apply(lambda x: map_hl(x,dict_hl_name))"
   ]
  },
  {
   "cell_type": "code",
   "execution_count": 3,
   "id": "d1fad651",
   "metadata": {},
   "outputs": [],
   "source": [
    "df_npl_hl = df_npl_hl.merge(df_pop_hl.loc[:,['C1_NM','pop']], on = 'C1_NM')\n",
    "df_npl_hl['npl'] = df_npl_hl['npl'] / df_npl_hl['pop'] * 100000\n",
    "df_npl_hl = df_npl_hl.drop('pop', axis = 1)"
   ]
  },
  {
   "cell_type": "code",
   "execution_count": 4,
   "id": "a030e0a7",
   "metadata": {},
   "outputs": [
    {
     "data": {
      "text/html": [
       "<div>\n",
       "<style scoped>\n",
       "    .dataframe tbody tr th:only-of-type {\n",
       "        vertical-align: middle;\n",
       "    }\n",
       "\n",
       "    .dataframe tbody tr th {\n",
       "        vertical-align: top;\n",
       "    }\n",
       "\n",
       "    .dataframe thead th {\n",
       "        text-align: right;\n",
       "    }\n",
       "</style>\n",
       "<table border=\"1\" class=\"dataframe\">\n",
       "  <thead>\n",
       "    <tr style=\"text-align: right;\">\n",
       "      <th></th>\n",
       "      <th>C1_NM</th>\n",
       "      <th>npl</th>\n",
       "    </tr>\n",
       "  </thead>\n",
       "  <tbody>\n",
       "    <tr>\n",
       "      <th>0</th>\n",
       "      <td>강원도</td>\n",
       "      <td>16.408447</td>\n",
       "    </tr>\n",
       "    <tr>\n",
       "      <th>1</th>\n",
       "      <td>경기도</td>\n",
       "      <td>13.297450</td>\n",
       "    </tr>\n",
       "    <tr>\n",
       "      <th>2</th>\n",
       "      <td>경상남도</td>\n",
       "      <td>14.849793</td>\n",
       "    </tr>\n",
       "    <tr>\n",
       "      <th>3</th>\n",
       "      <td>경상북도</td>\n",
       "      <td>13.744984</td>\n",
       "    </tr>\n",
       "    <tr>\n",
       "      <th>4</th>\n",
       "      <td>광주광역시</td>\n",
       "      <td>33.030104</td>\n",
       "    </tr>\n",
       "  </tbody>\n",
       "</table>\n",
       "</div>"
      ],
      "text/plain": [
       "   C1_NM        npl\n",
       "0    강원도  16.408447\n",
       "1    경기도  13.297450\n",
       "2   경상남도  14.849793\n",
       "3   경상북도  13.744984\n",
       "4  광주광역시  33.030104"
      ]
     },
     "execution_count": 4,
     "metadata": {},
     "output_type": "execute_result"
    }
   ],
   "source": [
    "df_npl_hl.head()"
   ]
  },
  {
   "cell_type": "markdown",
   "id": "1c2fd59e",
   "metadata": {},
   "source": [
    "## Population Density"
   ]
  },
  {
   "cell_type": "code",
   "execution_count": 4,
   "id": "b8ea6abe",
   "metadata": {},
   "outputs": [],
   "source": [
    "df_pop_hl = request_data_kosis(url = config['pop']['hl_url'], target_period = '2020', variable_name = 'pop')\n",
    "df_ua_hl = request_data_kosis(url = config['ua']['hl_url'], target_period = '2020',variable_name = 'urban_area')"
   ]
  },
  {
   "cell_type": "code",
   "execution_count": 5,
   "id": "bb5ee702",
   "metadata": {},
   "outputs": [],
   "source": [
    "# Unfity the name of high-level regions\n",
    "df_pop_hl['C1_NM'] = df_pop_hl['C1_NM'].apply(lambda x: map_hl(x,dict_hl_name))\n",
    "df_ua_hl['C1_NM'] = df_ua_hl['C1_NM'].apply(lambda x: map_hl(x,dict_hl_name))"
   ]
  },
  {
   "cell_type": "code",
   "execution_count": 21,
   "id": "2236cb00",
   "metadata": {},
   "outputs": [
    {
     "data": {
      "text/html": [
       "<div>\n",
       "<style scoped>\n",
       "    .dataframe tbody tr th:only-of-type {\n",
       "        vertical-align: middle;\n",
       "    }\n",
       "\n",
       "    .dataframe tbody tr th {\n",
       "        vertical-align: top;\n",
       "    }\n",
       "\n",
       "    .dataframe thead th {\n",
       "        text-align: right;\n",
       "    }\n",
       "</style>\n",
       "<table border=\"1\" class=\"dataframe\">\n",
       "  <thead>\n",
       "    <tr style=\"text-align: right;\">\n",
       "      <th></th>\n",
       "      <th>C1</th>\n",
       "      <th>C1_NM</th>\n",
       "      <th>urban_area</th>\n",
       "      <th>period</th>\n",
       "    </tr>\n",
       "  </thead>\n",
       "  <tbody>\n",
       "    <tr>\n",
       "      <th>0</th>\n",
       "      <td>15315HJG001</td>\n",
       "      <td>서울특별시</td>\n",
       "      <td>605680193.0</td>\n",
       "      <td>2020</td>\n",
       "    </tr>\n",
       "    <tr>\n",
       "      <th>1</th>\n",
       "      <td>15315HJG002</td>\n",
       "      <td>부산광역시</td>\n",
       "      <td>940825055.0</td>\n",
       "      <td>2020</td>\n",
       "    </tr>\n",
       "    <tr>\n",
       "      <th>2</th>\n",
       "      <td>15315HJG003</td>\n",
       "      <td>대구광역시</td>\n",
       "      <td>799299015.0</td>\n",
       "      <td>2020</td>\n",
       "    </tr>\n",
       "    <tr>\n",
       "      <th>3</th>\n",
       "      <td>15315HJG004</td>\n",
       "      <td>인천광역시</td>\n",
       "      <td>529650659.0</td>\n",
       "      <td>2020</td>\n",
       "    </tr>\n",
       "    <tr>\n",
       "      <th>4</th>\n",
       "      <td>15315HJG005</td>\n",
       "      <td>광주광역시</td>\n",
       "      <td>480081726.0</td>\n",
       "      <td>2020</td>\n",
       "    </tr>\n",
       "  </tbody>\n",
       "</table>\n",
       "</div>"
      ],
      "text/plain": [
       "            C1  C1_NM   urban_area period\n",
       "0  15315HJG001  서울특별시  605680193.0   2020\n",
       "1  15315HJG002  부산광역시  940825055.0   2020\n",
       "2  15315HJG003  대구광역시  799299015.0   2020\n",
       "3  15315HJG004  인천광역시  529650659.0   2020\n",
       "4  15315HJG005  광주광역시  480081726.0   2020"
      ]
     },
     "execution_count": 21,
     "metadata": {},
     "output_type": "execute_result"
    }
   ],
   "source": [
    "df_ua_hl.head()"
   ]
  },
  {
   "cell_type": "code",
   "execution_count": 16,
   "id": "75d7db43",
   "metadata": {},
   "outputs": [],
   "source": [
    "df_pop_hl = df_pop_hl.merge(df_ua_hl.loc[:,['C1_NM','urban_area']], on = 'C1_NM')\n",
    "df_pop_hl['pd'] = df_pop_hl['pop'] /  df_pop_hl['urban_area']"
   ]
  },
  {
   "cell_type": "code",
   "execution_count": 20,
   "id": "fd66da07",
   "metadata": {},
   "outputs": [
    {
     "data": {
      "text/html": [
       "<div>\n",
       "<style scoped>\n",
       "    .dataframe tbody tr th:only-of-type {\n",
       "        vertical-align: middle;\n",
       "    }\n",
       "\n",
       "    .dataframe tbody tr th {\n",
       "        vertical-align: top;\n",
       "    }\n",
       "\n",
       "    .dataframe thead th {\n",
       "        text-align: right;\n",
       "    }\n",
       "</style>\n",
       "<table border=\"1\" class=\"dataframe\">\n",
       "  <thead>\n",
       "    <tr style=\"text-align: right;\">\n",
       "      <th></th>\n",
       "      <th>C1</th>\n",
       "      <th>C1_NM</th>\n",
       "      <th>pop</th>\n",
       "      <th>period</th>\n",
       "      <th>urban_area</th>\n",
       "      <th>pop_density</th>\n",
       "    </tr>\n",
       "  </thead>\n",
       "  <tbody>\n",
       "    <tr>\n",
       "      <th>0</th>\n",
       "      <td>1520213102303342A.01</td>\n",
       "      <td>서울특별시</td>\n",
       "      <td>9911088.0</td>\n",
       "      <td>2020</td>\n",
       "      <td>6.056802e+08</td>\n",
       "      <td>0.016364</td>\n",
       "    </tr>\n",
       "    <tr>\n",
       "      <th>3</th>\n",
       "      <td>1520213102303342A.04</td>\n",
       "      <td>인천광역시</td>\n",
       "      <td>3010476.0</td>\n",
       "      <td>2020</td>\n",
       "      <td>5.296507e+08</td>\n",
       "      <td>0.005684</td>\n",
       "    </tr>\n",
       "    <tr>\n",
       "      <th>8</th>\n",
       "      <td>1520213102303342A.09</td>\n",
       "      <td>경기도</td>\n",
       "      <td>13807158.0</td>\n",
       "      <td>2020</td>\n",
       "      <td>3.378712e+09</td>\n",
       "      <td>0.004087</td>\n",
       "    </tr>\n",
       "    <tr>\n",
       "      <th>1</th>\n",
       "      <td>1520213102303342A.02</td>\n",
       "      <td>부산광역시</td>\n",
       "      <td>3438710.0</td>\n",
       "      <td>2020</td>\n",
       "      <td>9.408251e+08</td>\n",
       "      <td>0.003655</td>\n",
       "    </tr>\n",
       "    <tr>\n",
       "      <th>4</th>\n",
       "      <td>1520213102303342A.05</td>\n",
       "      <td>광주광역시</td>\n",
       "      <td>1471385.0</td>\n",
       "      <td>2020</td>\n",
       "      <td>4.800817e+08</td>\n",
       "      <td>0.003065</td>\n",
       "    </tr>\n",
       "  </tbody>\n",
       "</table>\n",
       "</div>"
      ],
      "text/plain": [
       "                     C1  C1_NM         pop period    urban_area  pop_density\n",
       "0  1520213102303342A.01  서울특별시   9911088.0   2020  6.056802e+08     0.016364\n",
       "3  1520213102303342A.04  인천광역시   3010476.0   2020  5.296507e+08     0.005684\n",
       "8  1520213102303342A.09    경기도  13807158.0   2020  3.378712e+09     0.004087\n",
       "1  1520213102303342A.02  부산광역시   3438710.0   2020  9.408251e+08     0.003655\n",
       "4  1520213102303342A.05  광주광역시   1471385.0   2020  4.800817e+08     0.003065"
      ]
     },
     "execution_count": 20,
     "metadata": {},
     "output_type": "execute_result"
    }
   ],
   "source": [
    "df_pop_hl.sort_values(by = 'pop_density', ascending = False).head()"
   ]
  },
  {
   "cell_type": "markdown",
   "id": "61413410",
   "metadata": {},
   "source": [
    "## street_density"
   ]
  },
  {
   "cell_type": "code",
   "execution_count": null,
   "id": "f5de6a2d",
   "metadata": {},
   "outputs": [],
   "source": []
  },
  {
   "cell_type": "code",
   "execution_count": null,
   "id": "f50c03e3",
   "metadata": {},
   "outputs": [],
   "source": []
  },
  {
   "cell_type": "code",
   "execution_count": null,
   "id": "45aa2516",
   "metadata": {},
   "outputs": [],
   "source": []
  },
  {
   "cell_type": "markdown",
   "id": "c46e7b7e",
   "metadata": {},
   "source": [
    "## land_allocated_to_streets"
   ]
  },
  {
   "cell_type": "code",
   "execution_count": null,
   "id": "94ce78e6",
   "metadata": {},
   "outputs": [],
   "source": []
  },
  {
   "cell_type": "code",
   "execution_count": null,
   "id": "12dada56",
   "metadata": {},
   "outputs": [],
   "source": []
  },
  {
   "cell_type": "code",
   "execution_count": null,
   "id": "64d71a6b",
   "metadata": {},
   "outputs": [],
   "source": []
  }
 ],
 "metadata": {
  "kernelspec": {
   "display_name": "Python 3.10.4 ('cpi')",
   "language": "python",
   "name": "python3"
  },
  "language_info": {
   "codemirror_mode": {
    "name": "ipython",
    "version": 3
   },
   "file_extension": ".py",
   "mimetype": "text/x-python",
   "name": "python",
   "nbconvert_exporter": "python",
   "pygments_lexer": "ipython3",
   "version": "3.10.4"
  },
  "vscode": {
   "interpreter": {
    "hash": "d6f9b90e74ef7e4f229a2661193ae14e3b82de2db7e6e3d0b73e515f9eb02c1f"
   }
  }
 },
 "nbformat": 4,
 "nbformat_minor": 5
}
