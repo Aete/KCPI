{
 "cells": [
  {
   "cell_type": "code",
   "execution_count": 1,
   "id": "db0c4fba",
   "metadata": {},
   "outputs": [
    {
     "data": {
      "text/plain": [
       "['../../config.ini']"
      ]
     },
     "execution_count": 1,
     "metadata": {},
     "output_type": "execute_result"
    }
   ],
   "source": [
    "# import libraries\n",
    "# for processing data tables\n",
    "import numpy as np\n",
    "import pandas as pd\n",
    "\n",
    "# for visualizations\n",
    "import matplotlib.pyplot as plt\n",
    "import seaborn as sns\n",
    "\n",
    "# for sending requests to url and parsing\n",
    "import requests\n",
    "import json\n",
    "\n",
    "import sys\n",
    "sys.path.append('../')\n",
    "\n",
    "# import useful cumtom functions and variables from my helper.py\n",
    "from helper import request_data_kosis\n",
    "from helper import dict_hl_name\n",
    "from helper import map_hl\n",
    "from helper import request_data_libsta\n",
    "\n",
    "import configparser\n",
    "config = configparser.ConfigParser()\n",
    "config.read('../../config.ini', encoding='utf8')"
   ]
  },
  {
   "cell_type": "markdown",
   "id": "8ca44d2d",
   "metadata": {},
   "source": [
    "## Access to Improved Water"
   ]
  },
  {
   "cell_type": "code",
   "execution_count": 2,
   "id": "e4ecc6bf",
   "metadata": {},
   "outputs": [],
   "source": [
    "df_aiw_hl = request_data_kosis(url = config['aiw']['hl_url'], target_period = '2020', variable_name = 'aiw')\n",
    "df_aiw_ll = request_data_kosis(url = config['aiw']['ll_url'], target_period = '2020', variable_name = 'aiw')"
   ]
  },
  {
   "cell_type": "code",
   "execution_count": 3,
   "id": "340ebd3d",
   "metadata": {},
   "outputs": [
    {
     "data": {
      "text/html": [
       "<div>\n",
       "<style scoped>\n",
       "    .dataframe tbody tr th:only-of-type {\n",
       "        vertical-align: middle;\n",
       "    }\n",
       "\n",
       "    .dataframe tbody tr th {\n",
       "        vertical-align: top;\n",
       "    }\n",
       "\n",
       "    .dataframe thead th {\n",
       "        text-align: right;\n",
       "    }\n",
       "</style>\n",
       "<table border=\"1\" class=\"dataframe\">\n",
       "  <thead>\n",
       "    <tr style=\"text-align: right;\">\n",
       "      <th></th>\n",
       "      <th>C1</th>\n",
       "      <th>C1_NM</th>\n",
       "      <th>aiw</th>\n",
       "      <th>period</th>\n",
       "    </tr>\n",
       "  </thead>\n",
       "  <tbody>\n",
       "    <tr>\n",
       "      <th>0</th>\n",
       "      <td>11</td>\n",
       "      <td>서울특별시</td>\n",
       "      <td>100.0</td>\n",
       "      <td>2020</td>\n",
       "    </tr>\n",
       "    <tr>\n",
       "      <th>1</th>\n",
       "      <td>21</td>\n",
       "      <td>부산광역시</td>\n",
       "      <td>99.7</td>\n",
       "      <td>2020</td>\n",
       "    </tr>\n",
       "    <tr>\n",
       "      <th>2</th>\n",
       "      <td>22</td>\n",
       "      <td>대구광역시</td>\n",
       "      <td>100.0</td>\n",
       "      <td>2020</td>\n",
       "    </tr>\n",
       "    <tr>\n",
       "      <th>3</th>\n",
       "      <td>23</td>\n",
       "      <td>인천광역시</td>\n",
       "      <td>99.1</td>\n",
       "      <td>2020</td>\n",
       "    </tr>\n",
       "    <tr>\n",
       "      <th>4</th>\n",
       "      <td>24</td>\n",
       "      <td>광주광역시</td>\n",
       "      <td>99.9</td>\n",
       "      <td>2020</td>\n",
       "    </tr>\n",
       "  </tbody>\n",
       "</table>\n",
       "</div>"
      ],
      "text/plain": [
       "   C1  C1_NM    aiw period\n",
       "0  11  서울특별시  100.0   2020\n",
       "1  21  부산광역시   99.7   2020\n",
       "2  22  대구광역시  100.0   2020\n",
       "3  23  인천광역시   99.1   2020\n",
       "4  24  광주광역시   99.9   2020"
      ]
     },
     "execution_count": 3,
     "metadata": {},
     "output_type": "execute_result"
    }
   ],
   "source": [
    "df_aiw_hl.head()"
   ]
  },
  {
   "cell_type": "code",
   "execution_count": 4,
   "id": "6f704ff4",
   "metadata": {},
   "outputs": [
    {
     "data": {
      "text/html": [
       "<div>\n",
       "<style scoped>\n",
       "    .dataframe tbody tr th:only-of-type {\n",
       "        vertical-align: middle;\n",
       "    }\n",
       "\n",
       "    .dataframe tbody tr th {\n",
       "        vertical-align: top;\n",
       "    }\n",
       "\n",
       "    .dataframe thead th {\n",
       "        text-align: right;\n",
       "    }\n",
       "</style>\n",
       "<table border=\"1\" class=\"dataframe\">\n",
       "  <thead>\n",
       "    <tr style=\"text-align: right;\">\n",
       "      <th></th>\n",
       "      <th>C1</th>\n",
       "      <th>C1_NM</th>\n",
       "      <th>aiw</th>\n",
       "      <th>period</th>\n",
       "    </tr>\n",
       "  </thead>\n",
       "  <tbody>\n",
       "    <tr>\n",
       "      <th>0</th>\n",
       "      <td>11</td>\n",
       "      <td>서울특별시</td>\n",
       "      <td>100.0</td>\n",
       "      <td>2020</td>\n",
       "    </tr>\n",
       "    <tr>\n",
       "      <th>1</th>\n",
       "      <td>21</td>\n",
       "      <td>부산광역시</td>\n",
       "      <td>99.7</td>\n",
       "      <td>2020</td>\n",
       "    </tr>\n",
       "    <tr>\n",
       "      <th>2</th>\n",
       "      <td>22</td>\n",
       "      <td>대구광역시</td>\n",
       "      <td>100.0</td>\n",
       "      <td>2020</td>\n",
       "    </tr>\n",
       "    <tr>\n",
       "      <th>3</th>\n",
       "      <td>23</td>\n",
       "      <td>인천광역시</td>\n",
       "      <td>99.1</td>\n",
       "      <td>2020</td>\n",
       "    </tr>\n",
       "    <tr>\n",
       "      <th>4</th>\n",
       "      <td>24</td>\n",
       "      <td>광주광역시</td>\n",
       "      <td>99.9</td>\n",
       "      <td>2020</td>\n",
       "    </tr>\n",
       "  </tbody>\n",
       "</table>\n",
       "</div>"
      ],
      "text/plain": [
       "   C1  C1_NM    aiw period\n",
       "0  11  서울특별시  100.0   2020\n",
       "1  21  부산광역시   99.7   2020\n",
       "2  22  대구광역시  100.0   2020\n",
       "3  23  인천광역시   99.1   2020\n",
       "4  24  광주광역시   99.9   2020"
      ]
     },
     "execution_count": 4,
     "metadata": {},
     "output_type": "execute_result"
    }
   ],
   "source": [
    "df_aiw_ll.head()"
   ]
  },
  {
   "cell_type": "markdown",
   "id": "6377cade",
   "metadata": {},
   "source": [
    "## Access to Improved Sanitation"
   ]
  },
  {
   "cell_type": "code",
   "execution_count": 5,
   "id": "d87758e3",
   "metadata": {},
   "outputs": [],
   "source": [
    "df_ais_hl = request_data_kosis(url = config['ais']['hl_url'], target_period = '2020', variable_name = 'ais')\n",
    "df_ais_ll = request_data_kosis(url = config['ais']['ll_url'], target_period = '2020', variable_name = 'ais')"
   ]
  },
  {
   "cell_type": "code",
   "execution_count": 6,
   "id": "c294645e",
   "metadata": {},
   "outputs": [
    {
     "data": {
      "text/html": [
       "<div>\n",
       "<style scoped>\n",
       "    .dataframe tbody tr th:only-of-type {\n",
       "        vertical-align: middle;\n",
       "    }\n",
       "\n",
       "    .dataframe tbody tr th {\n",
       "        vertical-align: top;\n",
       "    }\n",
       "\n",
       "    .dataframe thead th {\n",
       "        text-align: right;\n",
       "    }\n",
       "</style>\n",
       "<table border=\"1\" class=\"dataframe\">\n",
       "  <thead>\n",
       "    <tr style=\"text-align: right;\">\n",
       "      <th></th>\n",
       "      <th>C1</th>\n",
       "      <th>C1_NM</th>\n",
       "      <th>ais</th>\n",
       "      <th>period</th>\n",
       "    </tr>\n",
       "  </thead>\n",
       "  <tbody>\n",
       "    <tr>\n",
       "      <th>0</th>\n",
       "      <td>11</td>\n",
       "      <td>서울특별시</td>\n",
       "      <td>100.0</td>\n",
       "      <td>2020</td>\n",
       "    </tr>\n",
       "    <tr>\n",
       "      <th>1</th>\n",
       "      <td>21</td>\n",
       "      <td>부산광역시</td>\n",
       "      <td>99.4</td>\n",
       "      <td>2020</td>\n",
       "    </tr>\n",
       "    <tr>\n",
       "      <th>2</th>\n",
       "      <td>22</td>\n",
       "      <td>대구광역시</td>\n",
       "      <td>98.8</td>\n",
       "      <td>2020</td>\n",
       "    </tr>\n",
       "    <tr>\n",
       "      <th>3</th>\n",
       "      <td>23</td>\n",
       "      <td>인천광역시</td>\n",
       "      <td>97.2</td>\n",
       "      <td>2020</td>\n",
       "    </tr>\n",
       "    <tr>\n",
       "      <th>4</th>\n",
       "      <td>24</td>\n",
       "      <td>광주광역시</td>\n",
       "      <td>98.9</td>\n",
       "      <td>2020</td>\n",
       "    </tr>\n",
       "  </tbody>\n",
       "</table>\n",
       "</div>"
      ],
      "text/plain": [
       "   C1  C1_NM    ais period\n",
       "0  11  서울특별시  100.0   2020\n",
       "1  21  부산광역시   99.4   2020\n",
       "2  22  대구광역시   98.8   2020\n",
       "3  23  인천광역시   97.2   2020\n",
       "4  24  광주광역시   98.9   2020"
      ]
     },
     "execution_count": 6,
     "metadata": {},
     "output_type": "execute_result"
    }
   ],
   "source": [
    "df_ais_hl.head()"
   ]
  },
  {
   "cell_type": "code",
   "execution_count": 7,
   "id": "751448f7",
   "metadata": {},
   "outputs": [
    {
     "data": {
      "text/html": [
       "<div>\n",
       "<style scoped>\n",
       "    .dataframe tbody tr th:only-of-type {\n",
       "        vertical-align: middle;\n",
       "    }\n",
       "\n",
       "    .dataframe tbody tr th {\n",
       "        vertical-align: top;\n",
       "    }\n",
       "\n",
       "    .dataframe thead th {\n",
       "        text-align: right;\n",
       "    }\n",
       "</style>\n",
       "<table border=\"1\" class=\"dataframe\">\n",
       "  <thead>\n",
       "    <tr style=\"text-align: right;\">\n",
       "      <th></th>\n",
       "      <th>C1</th>\n",
       "      <th>C1_NM</th>\n",
       "      <th>ais</th>\n",
       "      <th>period</th>\n",
       "    </tr>\n",
       "  </thead>\n",
       "  <tbody>\n",
       "    <tr>\n",
       "      <th>0</th>\n",
       "      <td>11</td>\n",
       "      <td>서울특별시</td>\n",
       "      <td>100.0</td>\n",
       "      <td>2020</td>\n",
       "    </tr>\n",
       "    <tr>\n",
       "      <th>1</th>\n",
       "      <td>11010</td>\n",
       "      <td>종로구</td>\n",
       "      <td>100.0</td>\n",
       "      <td>2020</td>\n",
       "    </tr>\n",
       "    <tr>\n",
       "      <th>2</th>\n",
       "      <td>11020</td>\n",
       "      <td>중구</td>\n",
       "      <td>100.0</td>\n",
       "      <td>2020</td>\n",
       "    </tr>\n",
       "    <tr>\n",
       "      <th>3</th>\n",
       "      <td>11030</td>\n",
       "      <td>용산구</td>\n",
       "      <td>100.0</td>\n",
       "      <td>2020</td>\n",
       "    </tr>\n",
       "    <tr>\n",
       "      <th>4</th>\n",
       "      <td>11040</td>\n",
       "      <td>성동구</td>\n",
       "      <td>100.0</td>\n",
       "      <td>2020</td>\n",
       "    </tr>\n",
       "  </tbody>\n",
       "</table>\n",
       "</div>"
      ],
      "text/plain": [
       "      C1  C1_NM    ais period\n",
       "0     11  서울특별시  100.0   2020\n",
       "1  11010    종로구  100.0   2020\n",
       "2  11020     중구  100.0   2020\n",
       "3  11030    용산구  100.0   2020\n",
       "4  11040    성동구  100.0   2020"
      ]
     },
     "execution_count": 7,
     "metadata": {},
     "output_type": "execute_result"
    }
   ],
   "source": [
    "df_ais_ll.head()"
   ]
  },
  {
   "cell_type": "markdown",
   "id": "1c2fd59e",
   "metadata": {},
   "source": [
    "## Population Density"
   ]
  },
  {
   "cell_type": "code",
   "execution_count": 8,
   "id": "b8ea6abe",
   "metadata": {},
   "outputs": [],
   "source": [
    "df_pop_hl = request_data_kosis(url = config['pop']['hl_url'], target_period = '2020', variable_name = 'pop')\n",
    "df_ua_hl = request_data_kosis(url = config['ua']['hl_url'], target_period = '2020',variable_name = 'urban_area')"
   ]
  },
  {
   "cell_type": "code",
   "execution_count": 9,
   "id": "bb5ee702",
   "metadata": {},
   "outputs": [],
   "source": [
    "# Unfity the name of high-level regions\n",
    "df_pop_hl['C1_NM'] = df_pop_hl['C1_NM'].apply(lambda x: map_hl(x,dict_hl_name))\n",
    "df_ua_hl['C1_NM'] = df_ua_hl['C1_NM'].apply(lambda x: map_hl(x,dict_hl_name))"
   ]
  },
  {
   "cell_type": "code",
   "execution_count": 10,
   "id": "75d7db43",
   "metadata": {},
   "outputs": [],
   "source": [
    "df_pop_hl = df_pop_hl.merge(df_ua_hl.loc[:,['C1_NM','urban_area']], on = 'C1_NM')\n",
    "df_pop_hl['pd'] = df_pop_hl['pop'] /  df_pop_hl['urban_area']"
   ]
  },
  {
   "cell_type": "code",
   "execution_count": 11,
   "id": "3d9525c2",
   "metadata": {},
   "outputs": [
    {
     "data": {
      "text/html": [
       "<div>\n",
       "<style scoped>\n",
       "    .dataframe tbody tr th:only-of-type {\n",
       "        vertical-align: middle;\n",
       "    }\n",
       "\n",
       "    .dataframe tbody tr th {\n",
       "        vertical-align: top;\n",
       "    }\n",
       "\n",
       "    .dataframe thead th {\n",
       "        text-align: right;\n",
       "    }\n",
       "</style>\n",
       "<table border=\"1\" class=\"dataframe\">\n",
       "  <thead>\n",
       "    <tr style=\"text-align: right;\">\n",
       "      <th></th>\n",
       "      <th>C1</th>\n",
       "      <th>C1_NM</th>\n",
       "      <th>pop</th>\n",
       "      <th>period</th>\n",
       "      <th>urban_area</th>\n",
       "      <th>pd</th>\n",
       "    </tr>\n",
       "  </thead>\n",
       "  <tbody>\n",
       "    <tr>\n",
       "      <th>0</th>\n",
       "      <td>1520213102303342A.01</td>\n",
       "      <td>서울특별시</td>\n",
       "      <td>9911088.0</td>\n",
       "      <td>2020</td>\n",
       "      <td>605680193.0</td>\n",
       "      <td>0.016364</td>\n",
       "    </tr>\n",
       "    <tr>\n",
       "      <th>1</th>\n",
       "      <td>1520213102303342A.02</td>\n",
       "      <td>부산광역시</td>\n",
       "      <td>3438710.0</td>\n",
       "      <td>2020</td>\n",
       "      <td>940825055.0</td>\n",
       "      <td>0.003655</td>\n",
       "    </tr>\n",
       "    <tr>\n",
       "      <th>2</th>\n",
       "      <td>1520213102303342A.03</td>\n",
       "      <td>대구광역시</td>\n",
       "      <td>2446144.0</td>\n",
       "      <td>2020</td>\n",
       "      <td>799299015.0</td>\n",
       "      <td>0.003060</td>\n",
       "    </tr>\n",
       "    <tr>\n",
       "      <th>3</th>\n",
       "      <td>1520213102303342A.04</td>\n",
       "      <td>인천광역시</td>\n",
       "      <td>3010476.0</td>\n",
       "      <td>2020</td>\n",
       "      <td>529650659.0</td>\n",
       "      <td>0.005684</td>\n",
       "    </tr>\n",
       "    <tr>\n",
       "      <th>4</th>\n",
       "      <td>1520213102303342A.05</td>\n",
       "      <td>광주광역시</td>\n",
       "      <td>1471385.0</td>\n",
       "      <td>2020</td>\n",
       "      <td>480081726.0</td>\n",
       "      <td>0.003065</td>\n",
       "    </tr>\n",
       "  </tbody>\n",
       "</table>\n",
       "</div>"
      ],
      "text/plain": [
       "                     C1  C1_NM        pop period   urban_area        pd\n",
       "0  1520213102303342A.01  서울특별시  9911088.0   2020  605680193.0  0.016364\n",
       "1  1520213102303342A.02  부산광역시  3438710.0   2020  940825055.0  0.003655\n",
       "2  1520213102303342A.03  대구광역시  2446144.0   2020  799299015.0  0.003060\n",
       "3  1520213102303342A.04  인천광역시  3010476.0   2020  529650659.0  0.005684\n",
       "4  1520213102303342A.05  광주광역시  1471385.0   2020  480081726.0  0.003065"
      ]
     },
     "execution_count": 11,
     "metadata": {},
     "output_type": "execute_result"
    }
   ],
   "source": [
    "df_pop_hl.head()"
   ]
  },
  {
   "cell_type": "markdown",
   "id": "c5eaff71",
   "metadata": {},
   "source": [
    "## Physiscian Density"
   ]
  },
  {
   "cell_type": "code",
   "execution_count": 12,
   "id": "8fd2d6f9",
   "metadata": {},
   "outputs": [],
   "source": [
    "df_phd_hl = request_data_kosis(url = config['phd']['hl_url'], target_period = '2021', variable_name = 'phd')\n",
    "df_phd_ll = request_data_kosis(url = config['phd']['ll_url'], target_period = '2021', variable_name = 'phd')"
   ]
  },
  {
   "cell_type": "code",
   "execution_count": 13,
   "id": "bb551d2d",
   "metadata": {},
   "outputs": [
    {
     "data": {
      "text/html": [
       "<div>\n",
       "<style scoped>\n",
       "    .dataframe tbody tr th:only-of-type {\n",
       "        vertical-align: middle;\n",
       "    }\n",
       "\n",
       "    .dataframe tbody tr th {\n",
       "        vertical-align: top;\n",
       "    }\n",
       "\n",
       "    .dataframe thead th {\n",
       "        text-align: right;\n",
       "    }\n",
       "</style>\n",
       "<table border=\"1\" class=\"dataframe\">\n",
       "  <thead>\n",
       "    <tr style=\"text-align: right;\">\n",
       "      <th></th>\n",
       "      <th>C1</th>\n",
       "      <th>C1_NM</th>\n",
       "      <th>phd</th>\n",
       "      <th>period</th>\n",
       "    </tr>\n",
       "  </thead>\n",
       "  <tbody>\n",
       "    <tr>\n",
       "      <th>0</th>\n",
       "      <td>11</td>\n",
       "      <td>서울특별시</td>\n",
       "      <td>4.7</td>\n",
       "      <td>2021</td>\n",
       "    </tr>\n",
       "    <tr>\n",
       "      <th>1</th>\n",
       "      <td>21</td>\n",
       "      <td>부산광역시</td>\n",
       "      <td>3.5</td>\n",
       "      <td>2021</td>\n",
       "    </tr>\n",
       "    <tr>\n",
       "      <th>2</th>\n",
       "      <td>22</td>\n",
       "      <td>대구광역시</td>\n",
       "      <td>3.6</td>\n",
       "      <td>2021</td>\n",
       "    </tr>\n",
       "    <tr>\n",
       "      <th>3</th>\n",
       "      <td>23</td>\n",
       "      <td>인천광역시</td>\n",
       "      <td>2.6</td>\n",
       "      <td>2021</td>\n",
       "    </tr>\n",
       "    <tr>\n",
       "      <th>4</th>\n",
       "      <td>24</td>\n",
       "      <td>광주광역시</td>\n",
       "      <td>3.7</td>\n",
       "      <td>2021</td>\n",
       "    </tr>\n",
       "  </tbody>\n",
       "</table>\n",
       "</div>"
      ],
      "text/plain": [
       "   C1  C1_NM  phd period\n",
       "0  11  서울특별시  4.7   2021\n",
       "1  21  부산광역시  3.5   2021\n",
       "2  22  대구광역시  3.6   2021\n",
       "3  23  인천광역시  2.6   2021\n",
       "4  24  광주광역시  3.7   2021"
      ]
     },
     "execution_count": 13,
     "metadata": {},
     "output_type": "execute_result"
    }
   ],
   "source": [
    "df_phd_hl.head()"
   ]
  },
  {
   "cell_type": "code",
   "execution_count": 14,
   "id": "05cb73c8",
   "metadata": {},
   "outputs": [],
   "source": [
    "df_phd_ll['C1_hl'] = df_phd_ll['C1'].str[:2]\n",
    "df_phd_ll = df_phd_ll.merge(df_phd_hl.loc[:,['C1','C1_NM']].rename(columns={'C1':'C1_hl','C1_NM':'hl'}), on='C1_hl', how = 'left')"
   ]
  },
  {
   "cell_type": "code",
   "execution_count": 15,
   "id": "7b3a41a5",
   "metadata": {},
   "outputs": [
    {
     "data": {
      "text/html": [
       "<div>\n",
       "<style scoped>\n",
       "    .dataframe tbody tr th:only-of-type {\n",
       "        vertical-align: middle;\n",
       "    }\n",
       "\n",
       "    .dataframe tbody tr th {\n",
       "        vertical-align: top;\n",
       "    }\n",
       "\n",
       "    .dataframe thead th {\n",
       "        text-align: right;\n",
       "    }\n",
       "</style>\n",
       "<table border=\"1\" class=\"dataframe\">\n",
       "  <thead>\n",
       "    <tr style=\"text-align: right;\">\n",
       "      <th></th>\n",
       "      <th>C1</th>\n",
       "      <th>C1_NM</th>\n",
       "      <th>phd</th>\n",
       "      <th>period</th>\n",
       "      <th>C1_hl</th>\n",
       "      <th>hl</th>\n",
       "    </tr>\n",
       "  </thead>\n",
       "  <tbody>\n",
       "    <tr>\n",
       "      <th>0</th>\n",
       "      <td>11010</td>\n",
       "      <td>종로구</td>\n",
       "      <td>21.1</td>\n",
       "      <td>2021</td>\n",
       "      <td>11</td>\n",
       "      <td>서울특별시</td>\n",
       "    </tr>\n",
       "    <tr>\n",
       "      <th>1</th>\n",
       "      <td>11020</td>\n",
       "      <td>중구</td>\n",
       "      <td>10.2</td>\n",
       "      <td>2021</td>\n",
       "      <td>11</td>\n",
       "      <td>서울특별시</td>\n",
       "    </tr>\n",
       "    <tr>\n",
       "      <th>2</th>\n",
       "      <td>11030</td>\n",
       "      <td>용산구</td>\n",
       "      <td>3.6</td>\n",
       "      <td>2021</td>\n",
       "      <td>11</td>\n",
       "      <td>서울특별시</td>\n",
       "    </tr>\n",
       "    <tr>\n",
       "      <th>3</th>\n",
       "      <td>11040</td>\n",
       "      <td>성동구</td>\n",
       "      <td>3.6</td>\n",
       "      <td>2021</td>\n",
       "      <td>11</td>\n",
       "      <td>서울특별시</td>\n",
       "    </tr>\n",
       "    <tr>\n",
       "      <th>4</th>\n",
       "      <td>11050</td>\n",
       "      <td>광진구</td>\n",
       "      <td>3.8</td>\n",
       "      <td>2021</td>\n",
       "      <td>11</td>\n",
       "      <td>서울특별시</td>\n",
       "    </tr>\n",
       "  </tbody>\n",
       "</table>\n",
       "</div>"
      ],
      "text/plain": [
       "      C1 C1_NM   phd period C1_hl     hl\n",
       "0  11010   종로구  21.1   2021    11  서울특별시\n",
       "1  11020    중구  10.2   2021    11  서울특별시\n",
       "2  11030   용산구   3.6   2021    11  서울특별시\n",
       "3  11040   성동구   3.6   2021    11  서울특별시\n",
       "4  11050   광진구   3.8   2021    11  서울특별시"
      ]
     },
     "execution_count": 15,
     "metadata": {},
     "output_type": "execute_result"
    }
   ],
   "source": [
    "df_phd_ll.head()"
   ]
  },
  {
   "cell_type": "markdown",
   "id": "a80eec22",
   "metadata": {},
   "source": [
    "## Number of Public Libraries"
   ]
  },
  {
   "cell_type": "code",
   "execution_count": 16,
   "id": "0fd22240",
   "metadata": {},
   "outputs": [],
   "source": [
    "df_npl_hl = request_data_libsta(config['npl']['hl_url'], map_hl, dict_hl_name)\n",
    "\n",
    "df_pop_hl = request_data_kosis(url = config['pop']['hl_url'], target_period = '2020', variable_name = 'pop')\n",
    "df_pop_hl['C1_NM'] = df_pop_hl['C1_NM'].apply(lambda x: map_hl(x,dict_hl_name))"
   ]
  },
  {
   "cell_type": "code",
   "execution_count": 17,
   "id": "d1fad651",
   "metadata": {},
   "outputs": [],
   "source": [
    "df_npl_hl = df_npl_hl.merge(df_pop_hl.loc[:,['C1_NM','pop']], on = 'C1_NM')\n",
    "df_npl_hl['npl'] = df_npl_hl['npl'] / df_npl_hl['pop'] * 100000\n",
    "df_npl_hl = df_npl_hl.drop('pop', axis = 1)"
   ]
  },
  {
   "cell_type": "code",
   "execution_count": 18,
   "id": "a030e0a7",
   "metadata": {},
   "outputs": [
    {
     "data": {
      "text/html": [
       "<div>\n",
       "<style scoped>\n",
       "    .dataframe tbody tr th:only-of-type {\n",
       "        vertical-align: middle;\n",
       "    }\n",
       "\n",
       "    .dataframe tbody tr th {\n",
       "        vertical-align: top;\n",
       "    }\n",
       "\n",
       "    .dataframe thead th {\n",
       "        text-align: right;\n",
       "    }\n",
       "</style>\n",
       "<table border=\"1\" class=\"dataframe\">\n",
       "  <thead>\n",
       "    <tr style=\"text-align: right;\">\n",
       "      <th></th>\n",
       "      <th>C1_NM</th>\n",
       "      <th>npl</th>\n",
       "    </tr>\n",
       "  </thead>\n",
       "  <tbody>\n",
       "    <tr>\n",
       "      <th>0</th>\n",
       "      <td>강원도</td>\n",
       "      <td>16.408447</td>\n",
       "    </tr>\n",
       "    <tr>\n",
       "      <th>1</th>\n",
       "      <td>경기도</td>\n",
       "      <td>13.297450</td>\n",
       "    </tr>\n",
       "    <tr>\n",
       "      <th>2</th>\n",
       "      <td>경상남도</td>\n",
       "      <td>14.849793</td>\n",
       "    </tr>\n",
       "    <tr>\n",
       "      <th>3</th>\n",
       "      <td>경상북도</td>\n",
       "      <td>13.744984</td>\n",
       "    </tr>\n",
       "    <tr>\n",
       "      <th>4</th>\n",
       "      <td>광주광역시</td>\n",
       "      <td>33.030104</td>\n",
       "    </tr>\n",
       "  </tbody>\n",
       "</table>\n",
       "</div>"
      ],
      "text/plain": [
       "   C1_NM        npl\n",
       "0    강원도  16.408447\n",
       "1    경기도  13.297450\n",
       "2   경상남도  14.849793\n",
       "3   경상북도  13.744984\n",
       "4  광주광역시  33.030104"
      ]
     },
     "execution_count": 18,
     "metadata": {},
     "output_type": "execute_result"
    }
   ],
   "source": [
    "df_npl_hl.head()"
   ]
  },
  {
   "cell_type": "markdown",
   "id": "20234146",
   "metadata": {},
   "source": [
    "## "
   ]
  },
  {
   "cell_type": "markdown",
   "id": "3d8cc8d7",
   "metadata": {},
   "source": [
    "## Internet Access"
   ]
  },
  {
   "cell_type": "code",
   "execution_count": 19,
   "id": "e25cbfa8",
   "metadata": {},
   "outputs": [],
   "source": [
    "df_ia_hl = request_data_kosis(url = config['ia']['hl_url'], target_period = '2021', index = ['C1','C1_NM'], columns = 'C2_NM', scale = 'hl')"
   ]
  },
  {
   "cell_type": "code",
   "execution_count": 20,
   "id": "a1035ee7",
   "metadata": {},
   "outputs": [
    {
     "data": {
      "text/html": [
       "<div>\n",
       "<style scoped>\n",
       "    .dataframe tbody tr th:only-of-type {\n",
       "        vertical-align: middle;\n",
       "    }\n",
       "\n",
       "    .dataframe tbody tr th {\n",
       "        vertical-align: top;\n",
       "    }\n",
       "\n",
       "    .dataframe thead th {\n",
       "        text-align: right;\n",
       "    }\n",
       "</style>\n",
       "<table border=\"1\" class=\"dataframe\">\n",
       "  <thead>\n",
       "    <tr style=\"text-align: right;\">\n",
       "      <th></th>\n",
       "      <th>C1</th>\n",
       "      <th>C1_NM</th>\n",
       "      <th>가능</th>\n",
       "      <th>불가능</th>\n",
       "      <th>period</th>\n",
       "    </tr>\n",
       "  </thead>\n",
       "  <tbody>\n",
       "    <tr>\n",
       "      <th>0</th>\n",
       "      <td>A0501</td>\n",
       "      <td>서울</td>\n",
       "      <td>99.9</td>\n",
       "      <td>0.1</td>\n",
       "      <td>2021</td>\n",
       "    </tr>\n",
       "    <tr>\n",
       "      <th>1</th>\n",
       "      <td>A0502</td>\n",
       "      <td>부산</td>\n",
       "      <td>99.9</td>\n",
       "      <td>0.1</td>\n",
       "      <td>2021</td>\n",
       "    </tr>\n",
       "    <tr>\n",
       "      <th>2</th>\n",
       "      <td>A0503</td>\n",
       "      <td>대구</td>\n",
       "      <td>99.9</td>\n",
       "      <td>0.1</td>\n",
       "      <td>2021</td>\n",
       "    </tr>\n",
       "    <tr>\n",
       "      <th>3</th>\n",
       "      <td>A0504</td>\n",
       "      <td>인천</td>\n",
       "      <td>99.9</td>\n",
       "      <td>0.1</td>\n",
       "      <td>2021</td>\n",
       "    </tr>\n",
       "    <tr>\n",
       "      <th>4</th>\n",
       "      <td>A0505</td>\n",
       "      <td>광주</td>\n",
       "      <td>100.0</td>\n",
       "      <td>0.0</td>\n",
       "      <td>2021</td>\n",
       "    </tr>\n",
       "  </tbody>\n",
       "</table>\n",
       "</div>"
      ],
      "text/plain": [
       "      C1 C1_NM     가능  불가능 period\n",
       "0  A0501    서울   99.9  0.1   2021\n",
       "1  A0502    부산   99.9  0.1   2021\n",
       "2  A0503    대구   99.9  0.1   2021\n",
       "3  A0504    인천   99.9  0.1   2021\n",
       "4  A0505    광주  100.0  0.0   2021"
      ]
     },
     "execution_count": 20,
     "metadata": {},
     "output_type": "execute_result"
    }
   ],
   "source": [
    "df_ia_hl.head()"
   ]
  },
  {
   "cell_type": "markdown",
   "id": "680bf3e8",
   "metadata": {},
   "source": [
    "## Home Computer Access"
   ]
  },
  {
   "cell_type": "code",
   "execution_count": 21,
   "id": "26dfae73",
   "metadata": {},
   "outputs": [],
   "source": [
    "df_hca_hl = request_data_kosis(url = config['hca']['hl_url'], target_period = '2021', index = ['C1','C1_NM'], columns = 'C2_NM', scale = 'hl')"
   ]
  },
  {
   "cell_type": "code",
   "execution_count": 22,
   "id": "1f273f63",
   "metadata": {},
   "outputs": [
    {
     "data": {
      "text/html": [
       "<div>\n",
       "<style scoped>\n",
       "    .dataframe tbody tr th:only-of-type {\n",
       "        vertical-align: middle;\n",
       "    }\n",
       "\n",
       "    .dataframe tbody tr th {\n",
       "        vertical-align: top;\n",
       "    }\n",
       "\n",
       "    .dataframe thead th {\n",
       "        text-align: right;\n",
       "    }\n",
       "</style>\n",
       "<table border=\"1\" class=\"dataframe\">\n",
       "  <thead>\n",
       "    <tr style=\"text-align: right;\">\n",
       "      <th></th>\n",
       "      <th>C1</th>\n",
       "      <th>C1_NM</th>\n",
       "      <th>미보유</th>\n",
       "      <th>보유</th>\n",
       "      <th>period</th>\n",
       "    </tr>\n",
       "  </thead>\n",
       "  <tbody>\n",
       "    <tr>\n",
       "      <th>0</th>\n",
       "      <td>A0401</td>\n",
       "      <td>서울</td>\n",
       "      <td>19.3</td>\n",
       "      <td>80.7</td>\n",
       "      <td>2021</td>\n",
       "    </tr>\n",
       "    <tr>\n",
       "      <th>1</th>\n",
       "      <td>A0402</td>\n",
       "      <td>부산</td>\n",
       "      <td>24.5</td>\n",
       "      <td>75.5</td>\n",
       "      <td>2021</td>\n",
       "    </tr>\n",
       "    <tr>\n",
       "      <th>2</th>\n",
       "      <td>A0403</td>\n",
       "      <td>대구</td>\n",
       "      <td>27.2</td>\n",
       "      <td>72.8</td>\n",
       "      <td>2021</td>\n",
       "    </tr>\n",
       "    <tr>\n",
       "      <th>3</th>\n",
       "      <td>A0404</td>\n",
       "      <td>인천</td>\n",
       "      <td>20.7</td>\n",
       "      <td>79.3</td>\n",
       "      <td>2021</td>\n",
       "    </tr>\n",
       "    <tr>\n",
       "      <th>4</th>\n",
       "      <td>A0405</td>\n",
       "      <td>광주</td>\n",
       "      <td>29.1</td>\n",
       "      <td>70.9</td>\n",
       "      <td>2021</td>\n",
       "    </tr>\n",
       "  </tbody>\n",
       "</table>\n",
       "</div>"
      ],
      "text/plain": [
       "      C1 C1_NM   미보유    보유 period\n",
       "0  A0401    서울  19.3  80.7   2021\n",
       "1  A0402    부산  24.5  75.5   2021\n",
       "2  A0403    대구  27.2  72.8   2021\n",
       "3  A0404    인천  20.7  79.3   2021\n",
       "4  A0405    광주  29.1  70.9   2021"
      ]
     },
     "execution_count": 22,
     "metadata": {},
     "output_type": "execute_result"
    }
   ],
   "source": [
    "df_hca_hl.head()"
   ]
  },
  {
   "cell_type": "markdown",
   "id": "0111d9a2",
   "metadata": {},
   "source": [
    "## Traffic Fatalities"
   ]
  },
  {
   "cell_type": "code",
   "execution_count": 60,
   "id": "3a54a7a0",
   "metadata": {},
   "outputs": [],
   "source": [
    "df_tf = pd.read_csv('../../data/ID/traffic_fatalities_2020.csv', encoding = 'cp949')"
   ]
  },
  {
   "cell_type": "code",
   "execution_count": 61,
   "id": "5eb63279",
   "metadata": {},
   "outputs": [],
   "source": [
    "# filtering dataset and deep copy\n",
    "df_tf_hl = df_tf.loc[df_tf['시군구'] == '합계'].copy()\n",
    "\n",
    "# transform the names of the high_level regions to match with the population dataset\n",
    "df_tf_hl.loc[:,'시도'] = df_tf_hl.loc[:, '시도'].apply(lambda x: map_hl(x,dict_hl_name))\n",
    "\n",
    "# change a datatype of the number of the traffic fatlities\n",
    "df_tf_hl.loc[:,'사망자수(명)'] = df_tf_hl.loc[:,'사망자수(명)'].astype(int)\n",
    "\n",
    "# change the names of columns and drop unnecessary columns\n",
    "df_tf_hl = df_tf_hl.rename(columns = {'시도':'C1_NM', '사망자수(명)':'tf'})\n",
    "df_tf_hl = df_tf_hl.loc[:,['C1_NM', 'tf']]\n",
    "\n",
    "# merge the traffic fatalities and population dataframes\n",
    "df_tf_hl = df_tf_hl.merge(df_pop_hl.drop('C1', axis = 1), on = 'C1_NM')\n",
    "\n",
    "# calculate the traffic fatalities\n",
    "df_tf_hl['tf'] = (df_tf_hl['tf'] / df_tf_hl['pop']) * 100000\n",
    "\n",
    "# drop the population column \n",
    "df_tf_hl = df_tf_hl.drop('pop', axis = 1)\n",
    "\n"
   ]
  },
  {
   "cell_type": "code",
   "execution_count": 64,
   "id": "d8eee688",
   "metadata": {},
   "outputs": [
    {
     "data": {
      "text/html": [
       "<div>\n",
       "<style scoped>\n",
       "    .dataframe tbody tr th:only-of-type {\n",
       "        vertical-align: middle;\n",
       "    }\n",
       "\n",
       "    .dataframe tbody tr th {\n",
       "        vertical-align: top;\n",
       "    }\n",
       "\n",
       "    .dataframe thead th {\n",
       "        text-align: right;\n",
       "    }\n",
       "</style>\n",
       "<table border=\"1\" class=\"dataframe\">\n",
       "  <thead>\n",
       "    <tr style=\"text-align: right;\">\n",
       "      <th></th>\n",
       "      <th>C1_NM</th>\n",
       "      <th>tf</th>\n",
       "      <th>period</th>\n",
       "    </tr>\n",
       "  </thead>\n",
       "  <tbody>\n",
       "    <tr>\n",
       "      <th>0</th>\n",
       "      <td>서울특별시</td>\n",
       "      <td>2.209646</td>\n",
       "      <td>2020</td>\n",
       "    </tr>\n",
       "    <tr>\n",
       "      <th>1</th>\n",
       "      <td>부산광역시</td>\n",
       "      <td>2.908067</td>\n",
       "      <td>2020</td>\n",
       "    </tr>\n",
       "    <tr>\n",
       "      <th>2</th>\n",
       "      <td>경기도</td>\n",
       "      <td>4.432483</td>\n",
       "      <td>2020</td>\n",
       "    </tr>\n",
       "    <tr>\n",
       "      <th>3</th>\n",
       "      <td>강원도</td>\n",
       "      <td>8.524701</td>\n",
       "      <td>2020</td>\n",
       "    </tr>\n",
       "    <tr>\n",
       "      <th>4</th>\n",
       "      <td>충청북도</td>\n",
       "      <td>10.440217</td>\n",
       "      <td>2020</td>\n",
       "    </tr>\n",
       "  </tbody>\n",
       "</table>\n",
       "</div>"
      ],
      "text/plain": [
       "   C1_NM         tf period\n",
       "0  서울특별시   2.209646   2020\n",
       "1  부산광역시   2.908067   2020\n",
       "2    경기도   4.432483   2020\n",
       "3    강원도   8.524701   2020\n",
       "4   충청북도  10.440217   2020"
      ]
     },
     "execution_count": 64,
     "metadata": {},
     "output_type": "execute_result"
    }
   ],
   "source": [
    "df_tf_hl.head()"
   ]
  },
  {
   "cell_type": "markdown",
   "id": "c1156f8b",
   "metadata": {},
   "source": [
    "## "
   ]
  },
  {
   "cell_type": "markdown",
   "id": "61413410",
   "metadata": {},
   "source": [
    "## Street Density"
   ]
  },
  {
   "cell_type": "code",
   "execution_count": null,
   "id": "f5de6a2d",
   "metadata": {},
   "outputs": [],
   "source": []
  },
  {
   "cell_type": "code",
   "execution_count": null,
   "id": "f50c03e3",
   "metadata": {},
   "outputs": [],
   "source": []
  },
  {
   "cell_type": "code",
   "execution_count": null,
   "id": "45aa2516",
   "metadata": {},
   "outputs": [],
   "source": []
  },
  {
   "cell_type": "markdown",
   "id": "c46e7b7e",
   "metadata": {},
   "source": [
    "## land_allocated_to_streets"
   ]
  },
  {
   "cell_type": "code",
   "execution_count": null,
   "id": "94ce78e6",
   "metadata": {},
   "outputs": [],
   "source": []
  },
  {
   "cell_type": "code",
   "execution_count": null,
   "id": "12dada56",
   "metadata": {},
   "outputs": [],
   "source": []
  },
  {
   "cell_type": "code",
   "execution_count": null,
   "id": "64d71a6b",
   "metadata": {},
   "outputs": [],
   "source": []
  }
 ],
 "metadata": {
  "kernelspec": {
   "display_name": "Python 3.10.4 ('cpi')",
   "language": "python",
   "name": "python3"
  },
  "language_info": {
   "codemirror_mode": {
    "name": "ipython",
    "version": 3
   },
   "file_extension": ".py",
   "mimetype": "text/x-python",
   "name": "python",
   "nbconvert_exporter": "python",
   "pygments_lexer": "ipython3",
   "version": "3.10.4"
  },
  "vscode": {
   "interpreter": {
    "hash": "d6f9b90e74ef7e4f229a2661193ae14e3b82de2db7e6e3d0b73e515f9eb02c1f"
   }
  }
 },
 "nbformat": 4,
 "nbformat_minor": 5
}
